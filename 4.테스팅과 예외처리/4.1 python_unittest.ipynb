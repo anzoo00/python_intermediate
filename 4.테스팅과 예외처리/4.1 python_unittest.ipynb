{
 "cells": [
  {
   "cell_type": "markdown",
   "metadata": {},
   "source": [
    "## stdout으로 보낸 결과물 테스팅"
   ]
  },
  {
   "cell_type": "code",
   "execution_count": 32,
   "metadata": {},
   "outputs": [
    {
     "name": "stderr",
     "output_type": "stream",
     "text": [
      "..........s.sx\n",
      "----------------------------------------------------------------------\n",
      "Ran 14 tests in 0.009s\n",
      "\n",
      "OK (skipped=2, expected failures=1)\n"
     ]
    }
   ],
   "source": [
    "from io import StringIO\n",
    "from unittest import TestCase\n",
    "from unittest.mock import patch\n",
    "\n",
    "def urlprint(protocol, host, domain):\n",
    "    url = '{}://{}.{}'.format(protocol, host, domain)\n",
    "    print(url)\n",
    "\n",
    "class TestURLPrint(TestCase):\n",
    "    def test_url_gets_to_stdout(self):\n",
    "        protocol = 'http'\n",
    "        host = 'www'\n",
    "        domain = 'example.com'\n",
    "        expected_url = '{}://{}.{}\\n'.format(protocol, host, domain)\n",
    "\n",
    "        with patch('sys.stdout', new=StringIO()) as fake_out:\n",
    "            urlprint(protocol, host, domain)\n",
    "            self.assertEqual(fake_out.getvalue(), expected_url)\n",
    "\n",
    "if __name__ == '__main__':\n",
    "    import unittest\n",
    "    unittest.main(argv=['first-arg-is-ignored'], exit=False)"
   ]
  },
  {
   "cell_type": "markdown",
   "metadata": {},
   "source": [
    "## 유닛 테스트에서 예외 조건 시험하기"
   ]
  },
  {
   "cell_type": "code",
   "execution_count": 33,
   "metadata": {},
   "outputs": [
    {
     "name": "stderr",
     "output_type": "stream",
     "text": [
      "..........s.sx\n",
      "----------------------------------------------------------------------\n",
      "Ran 14 tests in 0.007s\n",
      "\n",
      "OK (skipped=2, expected failures=1)\n"
     ]
    }
   ],
   "source": [
    "import unittest\n",
    "\n",
    "# A simple function to illustrate\n",
    "def parse_int(s):\n",
    "    return int(s)\n",
    "\n",
    "class TestConversion(unittest.TestCase):\n",
    "    # Testing that an exception gets raised\n",
    "    def test_bad_int(self):\n",
    "        self.assertRaises(ValueError, parse_int, \"N/A\")\n",
    "\n",
    "    # Testing an exception plus regex on exception message\n",
    "    def test_bad_int_msg(self):\n",
    "        self.assertRaisesRegex(ValueError, 'invalid literal .*', parse_int, 'N/A') \n",
    "\n",
    "# Example of testing an exception along with inspection of exception instance\n",
    "import errno\n",
    "\n",
    "class TestIO(unittest.TestCase):\n",
    "    def test_file_not_found(self):\n",
    "        try:\n",
    "            f = open('/file/not/found')\n",
    "        except IOError as e:\n",
    "            self.assertEqual(e.errno, errno.ENOENT)\n",
    "        else:\n",
    "            self.fail(\"IOError not raised\") \n",
    "\n",
    "if __name__ == '__main__':\n",
    "    unittest.main(argv=['first-arg-is-ignored'], exit=False)"
   ]
  },
  {
   "cell_type": "markdown",
   "metadata": {},
   "source": [
    "## 파일에 테스트 결과 기록"
   ]
  },
  {
   "cell_type": "code",
   "execution_count": 34,
   "metadata": {},
   "outputs": [],
   "source": [
    "import unittest\n",
    "\n",
    "# A simple function to illustrate\n",
    "def parse_int(s):\n",
    "    return int(s)\n",
    "\n",
    "class TestConversion(unittest.TestCase):\n",
    "    # Testing that an exception gets raised\n",
    "    def test_bad_int(self):\n",
    "        self.assertRaises(ValueError, parse_int, \"N/A\")\n",
    "\n",
    "    # Testing an exception plus regex on exception message\n",
    "    def test_bad_int_msg(self):\n",
    "        self.assertRaisesRegex(ValueError, 'invalid literal .*', parse_int, 'N/A') \n",
    "\n",
    "# Example of testing an exception along with inspection of exception instance\n",
    "import errno\n",
    "\n",
    "class TestIO(unittest.TestCase):\n",
    "    def test_file_not_found(self):\n",
    "        try:\n",
    "            f = open('/file/not/found')\n",
    "        except IOError as e:\n",
    "            self.assertEqual(e.errno, errno.ENOENT)\n",
    "        else:\n",
    "            self.fail(\"IOError not raised\") \n",
    "\n",
    "import sys\n",
    "def main(out=sys.stderr, verbosity=2):\n",
    "    loader = unittest.TestLoader()\n",
    "    suite = loader.loadTestsFromModule(sys.modules[__name__])\n",
    "    unittest.TextTestRunner(out, verbosity=verbosity).run(suite)\n",
    "\n",
    "if __name__ == '__main__':\n",
    "    with open('testing.out', 'w') as f:\n",
    "        main(f)\n"
   ]
  },
  {
   "cell_type": "markdown",
   "metadata": {},
   "source": [
    "## 테스트 실패 예측과 건너뜀"
   ]
  },
  {
   "cell_type": "code",
   "execution_count": 35,
   "metadata": {},
   "outputs": [
    {
     "name": "stderr",
     "output_type": "stream",
     "text": [
      "test_add (__main__.MyCalcTest) ... ok\n",
      "test_substract (__main__.MyCalcTest) ... ok\n",
      "test_bad_int (__main__.TestConversion) ... ok\n",
      "test_bad_int_msg (__main__.TestConversion) ... ok\n",
      "test_file_not_found (__main__.TestIO) ... ok\n",
      "test_isupper (__main__.TestStringMethods) ... ok\n",
      "test_split (__main__.TestStringMethods) ... ok\n",
      "test_upper (__main__.TestStringMethods) ... ok\n",
      "test_url_gets_to_stdout (__main__.TestURLPrint) ... ok\n",
      "test_0 (__main__.Tests) ... ok\n",
      "test_1 (__main__.Tests) ... skipped 'skipped test'\n",
      "test_2 (__main__.Tests) ... ok\n",
      "test_3 (__main__.Tests) ... skipped 'Mac specific test'\n",
      "test_4 (__main__.Tests) ... expected failure\n",
      "\n",
      "----------------------------------------------------------------------\n",
      "Ran 14 tests in 0.008s\n",
      "\n",
      "OK (skipped=2, expected failures=1)\n"
     ]
    }
   ],
   "source": [
    "import unittest\n",
    "import os\n",
    "import platform\n",
    "\n",
    "class Tests(unittest.TestCase):\n",
    "    def test_0(self):\n",
    "        self.assertTrue(True)\n",
    "\n",
    "    @unittest.skip('skipped test')\n",
    "    def test_1(self):\n",
    "        self.fail(\"should have failed!\")\n",
    "\n",
    "    @unittest.skipIf(os.name=='posix', 'Not supported on Unix')\n",
    "    def test_2(self):\n",
    "        import winreg\n",
    "\n",
    "    @unittest.skipUnless(platform.system() == 'Darwin', 'Mac specific test')\n",
    "    def test_3(self):\n",
    "        self.assertTrue(True)\n",
    "\n",
    "    @unittest.expectedFailure\n",
    "    def test_4(self):\n",
    "        self.assertEqual(2+2, 5)\n",
    "\n",
    "if __name__ == '__main__':\n",
    "    unittest.main(argv=['first-arg-is-ignored'], exit=False, verbosity=2)"
   ]
  },
  {
   "cell_type": "code",
   "execution_count": null,
   "metadata": {},
   "outputs": [],
   "source": []
  }
 ],
 "metadata": {
  "kernelspec": {
   "display_name": "Python 3",
   "language": "python",
   "name": "python3"
  },
  "language_info": {
   "codemirror_mode": {
    "name": "ipython",
    "version": 3
   },
   "file_extension": ".py",
   "mimetype": "text/x-python",
   "name": "python",
   "nbconvert_exporter": "python",
   "pygments_lexer": "ipython3",
   "version": "3.7.6"
  }
 },
 "nbformat": 4,
 "nbformat_minor": 4
}
