{
 "cells": [
  {
   "cell_type": "markdown",
   "metadata": {},
   "source": [
    "## 인스턴스 생성 조절에 메타클래스 사용"
   ]
  },
  {
   "cell_type": "code",
   "execution_count": 1,
   "metadata": {},
   "outputs": [
    {
     "name": "stdout",
     "output_type": "stream",
     "text": [
      "Can't instantiate directly\n",
      "Spam.grok\n"
     ]
    }
   ],
   "source": [
    "class NoInstances(type):\n",
    "    def __call__(self, *args, **kwargs):\n",
    "        raise TypeError(\"Can't instantiate directly\")\n",
    "\n",
    "class Spam(metaclass=NoInstances):\n",
    "    @staticmethod\n",
    "    def grok(x):\n",
    "        print('Spam.grok')\n",
    "\n",
    "if __name__ == '__main__':\n",
    "    try:\n",
    "        s = Spam()\n",
    "    except TypeError as e:\n",
    "        print(e)\n",
    "\n",
    "    Spam.grok(42)"
   ]
  },
  {
   "cell_type": "code",
   "execution_count": 2,
   "metadata": {},
   "outputs": [
    {
     "name": "stdout",
     "output_type": "stream",
     "text": [
      "Creating Spam\n",
      "True\n"
     ]
    }
   ],
   "source": [
    "class Singleton(type):\n",
    "    def __init__(self, *args, **kwargs):\n",
    "        self.__instance = None\n",
    "        super().__init__(*args, **kwargs)\n",
    "\n",
    "    def __call__(self, *args, **kwargs):\n",
    "        if self.__instance is None:\n",
    "            self.__instance = super().__call__(*args, **kwargs)\n",
    "            return self.__instance\n",
    "        else:\n",
    "            return self.__instance\n",
    "\n",
    "class Spam(metaclass=Singleton):\n",
    "    def __init__(self):\n",
    "        print('Creating Spam')\n",
    "\n",
    "if __name__ == '__main__':\n",
    "    a = Spam()\n",
    "    b = Spam()\n",
    "    print(a is b)"
   ]
  },
  {
   "cell_type": "code",
   "execution_count": 3,
   "metadata": {},
   "outputs": [
    {
     "name": "stdout",
     "output_type": "stream",
     "text": [
      "Creating Spam('foo')\n",
      "Creating Spam('bar')\n",
      "a is b: False\n",
      "a is c: True\n"
     ]
    }
   ],
   "source": [
    "import weakref\n",
    "\n",
    "class Cached(type):\n",
    "    def __init__(self, *args, **kwargs):\n",
    "        super().__init__(*args, **kwargs)\n",
    "        self.__cache = weakref.WeakValueDictionary()\n",
    "\n",
    "    def __call__(self, *args):\n",
    "        if args in self.__cache:\n",
    "            return self.__cache[args]\n",
    "        else:\n",
    "            obj = super().__call__(*args)\n",
    "            self.__cache[args] = obj\n",
    "            return obj\n",
    "        \n",
    "class Spam(metaclass=Cached):\n",
    "    def __init__(self, name):\n",
    "        print('Creating Spam({!r})'.format(name))\n",
    "        self.name = name\n",
    "\n",
    "if __name__ == '__main__':\n",
    "    a = Spam('foo')\n",
    "    b = Spam('bar')\n",
    "    print('a is b:', a is b)\n",
    "    c = Spam('foo')\n",
    "    print('a is c:', a is c)"
   ]
  },
  {
   "cell_type": "markdown",
   "metadata": {},
   "source": [
    "## 클래스 속성 정의 순서 수집"
   ]
  },
  {
   "cell_type": "code",
   "execution_count": 4,
   "metadata": {},
   "outputs": [
    {
     "name": "stdout",
     "output_type": "stream",
     "text": [
      "GOOG\n",
      "GOOG,100,490.1\n",
      "Expected <class 'int'>\n"
     ]
    }
   ],
   "source": [
    "# Example of capturing class definition order\n",
    "\n",
    "from collections import OrderedDict\n",
    "\n",
    "# A set of descriptors for various types\n",
    "class Typed:\n",
    "    _expected_type = type(None)\n",
    "    def __init__(self, name=None):\n",
    "        self._name = name\n",
    "\n",
    "    def __set__(self, instance, value):\n",
    "        if not isinstance(value, self._expected_type):\n",
    "            raise TypeError('Expected ' +str(self._expected_type))\n",
    "        instance.__dict__[self._name] = value\n",
    "\n",
    "class Integer(Typed):\n",
    "    _expected_type = int\n",
    "\n",
    "class Float(Typed):\n",
    "    _expected_type = float\n",
    "\n",
    "class String(Typed):\n",
    "    _expected_type = str\n",
    "\n",
    "# Metaclass that uses an OrderedDict for class body\n",
    "class OrderedMeta(type):\n",
    "    def __new__(cls, clsname, bases, clsdict):\n",
    "        d = dict(clsdict)\n",
    "        order = []\n",
    "        for name, value in clsdict.items():\n",
    "            if isinstance(value, Typed):\n",
    "                value._name = name\n",
    "                order.append(name)\n",
    "        d['_order'] = order\n",
    "        return type.__new__(cls, clsname, bases, d)\n",
    "\n",
    "    @classmethod\n",
    "    def __prepare__(cls, clsname, bases):\n",
    "        return OrderedDict()\n",
    "\n",
    "# Example class that uses the definition order to initialize members\n",
    "class Structure(metaclass=OrderedMeta):\n",
    "    def as_csv(self):\n",
    "        return ','.join(str(getattr(self,name)) for name in self._order)\n",
    "\n",
    "# Example use\n",
    "class Stock(Structure):\n",
    "    name = String()\n",
    "    shares = Integer()\n",
    "    price = Float()\n",
    "    def __init__(self, name, shares, price):\n",
    "        self.name = name\n",
    "        self.shares = shares\n",
    "        self.price = price\n",
    "\n",
    "if __name__ == '__main__':\n",
    "    s = Stock('GOOG',100,490.1)\n",
    "    print(s.name)\n",
    "    print(s.as_csv())\n",
    "    try:\n",
    "        t = Stock('AAPL','a lot', 610.23)\n",
    "    except TypeError as e:\n",
    "        print(e)\n",
    "\n"
   ]
  },
  {
   "cell_type": "markdown",
   "metadata": {},
   "source": [
    "## 옵션 매개변수를 받는 메타클래스 정의"
   ]
  },
  {
   "cell_type": "code",
   "execution_count": 6,
   "metadata": {},
   "outputs": [],
   "source": [
    "# Example of a metaclass that takes optional arguments\n",
    "\n",
    "class MyMeta(type):\n",
    "    # Optional\n",
    "    @classmethod\n",
    "    def __prepare__(cls, name, bases, *, debug=False, synchronize=False):\n",
    "        # Custom processing\n",
    "        return super().__prepare__(name, bases)\n",
    "\n",
    "    # Required\n",
    "    def __new__(cls, name, bases, ns, *, debug=False, synchronize=False):\n",
    "        # Custom processing\n",
    "        return super().__new__(cls, name, bases, ns)\n",
    "        \n",
    "    def __init__(self, name, bases, ns, *, debug=False, synchronize=False):\n",
    "        # Custom processing\n",
    "        super().__init__(name, bases, ns)\n",
    "\n",
    "# Examples\n",
    "class A(metaclass=MyMeta, debug=True, synchronize=True):\n",
    "    pass\n",
    "\n",
    "class B(metaclass=MyMeta):\n",
    "    pass\n",
    "\n",
    "class C(metaclass=MyMeta, synchronize=True):\n",
    "    pass"
   ]
  },
  {
   "cell_type": "markdown",
   "metadata": {},
   "source": [
    "## \\*args, **kwargs에 매개변수 시그니처 강제"
   ]
  },
  {
   "cell_type": "code",
   "execution_count": 9,
   "metadata": {},
   "outputs": [
    {
     "name": "stdout",
     "output_type": "stream",
     "text": [
      "ACME 100 490.1\n",
      "ACME 100 490.1\n",
      "missing a required argument: 'price'\n",
      "too many positional arguments\n",
      "multiple values for argument 'name'\n"
     ]
    }
   ],
   "source": [
    "from inspect import Signature, Parameter\n",
    "\n",
    "def make_sig(*names):\n",
    "    parms = [Parameter(name, Parameter.POSITIONAL_OR_KEYWORD)\n",
    "             for name in names]\n",
    "    return Signature(parms)\n",
    "\n",
    "class Structure:\n",
    "    __signature__ = make_sig()\n",
    "    def __init__(self, *args, **kwargs):\n",
    "        bound_values = self.__signature__.bind(*args, **kwargs)\n",
    "        for name, value in bound_values.arguments.items():\n",
    "            setattr(self, name, value)\n",
    "\n",
    "# Example use\n",
    "class Stock(Structure):\n",
    "    __signature__ = make_sig('name', 'shares', 'price')\n",
    "\n",
    "class Point(Structure):\n",
    "    __signature__ = make_sig('x', 'y')\n",
    "\n",
    "# Example instantiation tests\n",
    "if __name__ == '__main__':\n",
    "    s1 = Stock('ACME', 100, 490.1)\n",
    "    print(s1.name, s1.shares, s1.price)\n",
    "\n",
    "    s2 = Stock(shares=100, name='ACME', price=490.1)\n",
    "    print(s2.name, s2.shares, s2.price)\n",
    "\n",
    "    # Not enough args\n",
    "    try:\n",
    "        s3 = Stock('ACME', 100)\n",
    "    except TypeError as e:\n",
    "        print(e)\n",
    "\n",
    "    # Too many args\n",
    "    try:\n",
    "        s4 = Stock('ACME', 100, 490.1, '6/1/2020')\n",
    "    except TypeError as e:\n",
    "        print(e)\n",
    "\n",
    "    # Replicated args\n",
    "    try:\n",
    "        s5 = Stock('ACME', 100, name='ACME', price=490.1)\n",
    "    except TypeError as e:\n",
    "        print(e)"
   ]
  },
  {
   "cell_type": "code",
   "execution_count": 10,
   "metadata": {},
   "outputs": [
    {
     "name": "stdout",
     "output_type": "stream",
     "text": [
      "ACME 100 490.1\n",
      "ACME 100 490.1\n",
      "missing a required argument: 'price'\n",
      "too many positional arguments\n",
      "multiple values for argument 'name'\n"
     ]
    }
   ],
   "source": [
    "from inspect import Signature, Parameter\n",
    "        \n",
    "def make_sig(*names):\n",
    "    parms = [Parameter(name, Parameter.POSITIONAL_OR_KEYWORD)\n",
    "             for name in names]\n",
    "    return Signature(parms)\n",
    "\n",
    "class StructureMeta(type):\n",
    "    def __new__(cls, clsname, bases, clsdict):\n",
    "        clsdict['__signature__'] = make_sig(*clsdict.get('_fields',[]))\n",
    "        return super().__new__(cls, clsname, bases, clsdict)\n",
    "\n",
    "class Structure(metaclass=StructureMeta):\n",
    "    _fields = []\n",
    "    def __init__(self, *args, **kwargs):\n",
    "        bound_values = self.__signature__.bind(*args, **kwargs)\n",
    "        for name, value in bound_values.arguments.items():\n",
    "            setattr(self, name, value)\n",
    "\n",
    "# Example\n",
    "class Stock(Structure):\n",
    "    _fields = ['name', 'shares', 'price']\n",
    "\n",
    "class Point(Structure):\n",
    "    _fields = ['x', 'y']\n",
    "\n",
    "# Example instantiation tests\n",
    "if __name__ == '__main__':\n",
    "    s1 = Stock('ACME', 100, 490.1)\n",
    "    print(s1.name, s1.shares, s1.price)\n",
    "\n",
    "    s2 = Stock(shares=100, name='ACME', price=490.1)\n",
    "    print(s2.name, s2.shares, s2.price)\n",
    "\n",
    "    # Not enough args\n",
    "    try:\n",
    "        s3 = Stock('ACME', 100)\n",
    "    except TypeError as e:\n",
    "        print(e)\n",
    "\n",
    "    # Too many args\n",
    "    try:\n",
    "        s4 = Stock('ACME', 100, 490.1, '6/1/2020')\n",
    "    except TypeError as e:\n",
    "        print(e)\n",
    "\n",
    "    # Replicated args\n",
    "    try:\n",
    "        s5 = Stock('ACME', 100, name='ACME', price=490.1)\n",
    "    except TypeError as e:\n",
    "        print(e)"
   ]
  },
  {
   "cell_type": "markdown",
   "metadata": {},
   "source": [
    "## 클래스 코딩 규칙 강제"
   ]
  },
  {
   "cell_type": "code",
   "execution_count": 11,
   "metadata": {},
   "outputs": [
    {
     "name": "stdout",
     "output_type": "stream",
     "text": [
      "**** About to generate a TypeError\n"
     ]
    },
    {
     "ename": "TypeError",
     "evalue": "Bad attribute name: fooBar",
     "output_type": "error",
     "traceback": [
      "\u001b[1;31m---------------------------------------------------------------------------\u001b[0m",
      "\u001b[1;31mTypeError\u001b[0m                                 Traceback (most recent call last)",
      "\u001b[1;32m<ipython-input-11-7745588507f3>\u001b[0m in \u001b[0;36m<module>\u001b[1;34m\u001b[0m\n\u001b[0;32m     14\u001b[0m \u001b[1;33m\u001b[0m\u001b[0m\n\u001b[0;32m     15\u001b[0m \u001b[0mprint\u001b[0m\u001b[1;33m(\u001b[0m\u001b[1;34m'**** About to generate a TypeError'\u001b[0m\u001b[1;33m)\u001b[0m\u001b[1;33m\u001b[0m\u001b[1;33m\u001b[0m\u001b[0m\n\u001b[1;32m---> 16\u001b[1;33m \u001b[1;32mclass\u001b[0m \u001b[0mB\u001b[0m\u001b[1;33m(\u001b[0m\u001b[0mRoot\u001b[0m\u001b[1;33m)\u001b[0m\u001b[1;33m:\u001b[0m\u001b[1;33m\u001b[0m\u001b[1;33m\u001b[0m\u001b[0m\n\u001b[0m\u001b[0;32m     17\u001b[0m     \u001b[1;32mdef\u001b[0m \u001b[0mfooBar\u001b[0m\u001b[1;33m(\u001b[0m\u001b[0mself\u001b[0m\u001b[1;33m)\u001b[0m\u001b[1;33m:\u001b[0m       \u001b[1;31m# TypeError\u001b[0m\u001b[1;33m\u001b[0m\u001b[1;33m\u001b[0m\u001b[0m\n\u001b[0;32m     18\u001b[0m         \u001b[1;32mpass\u001b[0m\u001b[1;33m\u001b[0m\u001b[1;33m\u001b[0m\u001b[0m\n",
      "\u001b[1;32m<ipython-input-11-7745588507f3>\u001b[0m in \u001b[0;36m__new__\u001b[1;34m(cls, clsname, bases, clsdict)\u001b[0m\n\u001b[0;32m      3\u001b[0m         \u001b[1;32mfor\u001b[0m \u001b[0mname\u001b[0m \u001b[1;32min\u001b[0m \u001b[0mclsdict\u001b[0m\u001b[1;33m:\u001b[0m\u001b[1;33m\u001b[0m\u001b[1;33m\u001b[0m\u001b[0m\n\u001b[0;32m      4\u001b[0m             \u001b[1;32mif\u001b[0m \u001b[0mname\u001b[0m\u001b[1;33m.\u001b[0m\u001b[0mlower\u001b[0m\u001b[1;33m(\u001b[0m\u001b[1;33m)\u001b[0m \u001b[1;33m!=\u001b[0m \u001b[0mname\u001b[0m\u001b[1;33m:\u001b[0m\u001b[1;33m\u001b[0m\u001b[1;33m\u001b[0m\u001b[0m\n\u001b[1;32m----> 5\u001b[1;33m                 \u001b[1;32mraise\u001b[0m \u001b[0mTypeError\u001b[0m\u001b[1;33m(\u001b[0m\u001b[1;34m'Bad attribute name: '\u001b[0m \u001b[1;33m+\u001b[0m \u001b[0mname\u001b[0m\u001b[1;33m)\u001b[0m\u001b[1;33m\u001b[0m\u001b[1;33m\u001b[0m\u001b[0m\n\u001b[0m\u001b[0;32m      6\u001b[0m         \u001b[1;32mreturn\u001b[0m \u001b[0msuper\u001b[0m\u001b[1;33m(\u001b[0m\u001b[1;33m)\u001b[0m\u001b[1;33m.\u001b[0m\u001b[0m__new__\u001b[0m\u001b[1;33m(\u001b[0m\u001b[0mcls\u001b[0m\u001b[1;33m,\u001b[0m \u001b[0mclsname\u001b[0m\u001b[1;33m,\u001b[0m \u001b[0mbases\u001b[0m\u001b[1;33m,\u001b[0m \u001b[0mclsdict\u001b[0m\u001b[1;33m)\u001b[0m\u001b[1;33m\u001b[0m\u001b[1;33m\u001b[0m\u001b[0m\n\u001b[0;32m      7\u001b[0m \u001b[1;33m\u001b[0m\u001b[0m\n",
      "\u001b[1;31mTypeError\u001b[0m: Bad attribute name: fooBar"
     ]
    }
   ],
   "source": [
    "class NoMixedCaseMeta(type):\n",
    "    def __new__(cls, clsname, bases, clsdict):\n",
    "        for name in clsdict:\n",
    "            if name.lower() != name:\n",
    "                raise TypeError('Bad attribute name: ' + name)\n",
    "        return super().__new__(cls, clsname, bases, clsdict)\n",
    "\n",
    "class Root(metaclass=NoMixedCaseMeta):\n",
    "    pass\n",
    "\n",
    "class A(Root):\n",
    "    def foo_bar(self):      # Ok\n",
    "        pass\n",
    "\n",
    "print('**** About to generate a TypeError')\n",
    "class B(Root):\n",
    "    def fooBar(self):       # TypeError\n",
    "        pass"
   ]
  },
  {
   "cell_type": "code",
   "execution_count": 12,
   "metadata": {},
   "outputs": [
    {
     "name": "stderr",
     "output_type": "stream",
     "text": [
      "WARNING:root:Signature mismatch in B.foo. (self, x, y) != (self, a, b)\n",
      "WARNING:root:Signature mismatch in B.spam. (self, x, *, z) != (self, x, z)\n"
     ]
    }
   ],
   "source": [
    "from inspect import signature\n",
    "import logging\n",
    "\n",
    "class MatchSignaturesMeta(type):\n",
    "    def __init__(self, clsname, bases, clsdict):\n",
    "        super().__init__(clsname, bases, clsdict)\n",
    "        sup = super(self, self)\n",
    "        for name, value in clsdict.items():\n",
    "            if name.startswith('_') or not callable(value):\n",
    "                continue\n",
    "            # Get the previous definition (if any) and compare the signatures\n",
    "            prev_dfn = getattr(sup,name,None)\n",
    "            if prev_dfn:\n",
    "                prev_sig = signature(prev_dfn)\n",
    "                val_sig = signature(value)\n",
    "                if prev_sig != val_sig:\n",
    "                    logging.warning('Signature mismatch in %s. %s != %s',\n",
    "                                value.__qualname__, str(prev_sig), str(val_sig))\n",
    "\n",
    "# Example\n",
    "class Root(metaclass=MatchSignaturesMeta):\n",
    "    pass\n",
    "\n",
    "class A(Root):\n",
    "    def foo(self, x, y):\n",
    "        pass\n",
    "\n",
    "    def spam(self, x, *, z):\n",
    "        pass\n",
    "\n",
    "# Class with redefined methods, but slightly different signatures\n",
    "class B(A):\n",
    "    def foo(self, a, b):\n",
    "        pass\n",
    "\n",
    "    def spam(self,x,z):\n",
    "        pass"
   ]
  },
  {
   "cell_type": "markdown",
   "metadata": {},
   "source": [
    "## 클래스를 프로그램적으로 정의"
   ]
  },
  {
   "cell_type": "code",
   "execution_count": 13,
   "metadata": {},
   "outputs": [
    {
     "name": "stdout",
     "output_type": "stream",
     "text": [
      "<types.Stock object at 0x0000017BC2A4F9C8>\n",
      "4555.0\n"
     ]
    }
   ],
   "source": [
    "# Methods\n",
    "def __init__(self, name, shares, price):\n",
    "    self.name = name\n",
    "    self.shares = shares\n",
    "    self.price = price\n",
    "\n",
    "def cost(self):\n",
    "    return self.shares * self.price\n",
    "\n",
    "cls_dict = {\n",
    "    '__init__' : __init__,\n",
    "    'cost' : cost,\n",
    "}\n",
    "\n",
    "# Make a class\n",
    "import types\n",
    "\n",
    "Stock = types.new_class('Stock', (), {}, lambda ns: ns.update(cls_dict))\n",
    "\n",
    "if __name__ == '__main__':\n",
    "    s = Stock('ACME', 50, 91.1)\n",
    "    print(s)\n",
    "    print(s.cost())"
   ]
  },
  {
   "cell_type": "code",
   "execution_count": 14,
   "metadata": {},
   "outputs": [
    {
     "name": "stdout",
     "output_type": "stream",
     "text": [
      "<class '__main__.Point'>\n",
      "2\n",
      "4 4\n",
      "5 5\n",
      "can't set attribute\n",
      "4 5\n"
     ]
    }
   ],
   "source": [
    "import operator\n",
    "import types\n",
    "import sys\n",
    "\n",
    "def named_tuple(classname, fieldnames):\n",
    "    # Populate a dictionary of field property accessors\n",
    "    cls_dict = { name: property(operator.itemgetter(n))\n",
    "                 for n, name in enumerate(fieldnames) }\n",
    "\n",
    "    # Make a __new__ function and add to the class dict\n",
    "    def __new__(cls, *args):\n",
    "        if len(args) != len(fieldnames):\n",
    "            raise TypeError('Expected {} arguments'.format(len(fieldnames)))\n",
    "        return tuple.__new__(cls, (args))\n",
    "\n",
    "    cls_dict['__new__'] = __new__\n",
    "\n",
    "    # Make the class\n",
    "    cls = types.new_class(classname, (tuple,), {}, \n",
    "                           lambda ns: ns.update(cls_dict))\n",
    "    cls.__module__ = sys._getframe(1).f_globals['__name__']\n",
    "    return cls\n",
    "\n",
    "if __name__ == '__main__':\n",
    "    Point = named_tuple('Point', ['x', 'y'])\n",
    "    print(Point)\n",
    "    p = Point(4, 5)\n",
    "    print(len(p))\n",
    "    print(p.x, p[0])\n",
    "    print(p.y, p[1])\n",
    "    try:\n",
    "        p.x = 2\n",
    "    except AttributeError as e:\n",
    "        print(e)\n",
    "    print('%s %s' % p)"
   ]
  },
  {
   "cell_type": "markdown",
   "metadata": {},
   "source": [
    "## 정의 시 클래스 멤버 초기화"
   ]
  },
  {
   "cell_type": "code",
   "execution_count": 15,
   "metadata": {},
   "outputs": [
    {
     "name": "stdout",
     "output_type": "stream",
     "text": [
      "('ACME', 50, 91.1)\n",
      "ACME\n",
      "ACME\n",
      "4555.0\n",
      "can't set attribute\n"
     ]
    }
   ],
   "source": [
    "import operator\n",
    "\n",
    "class StructTupleMeta(type):\n",
    "    def __init__(cls, *args, **kwargs):\n",
    "        super().__init__(*args, **kwargs)\n",
    "        for n, name in enumerate(cls._fields_):\n",
    "            setattr(cls, name, property(operator.itemgetter(n)))\n",
    "\n",
    "class StructTuple(tuple, metaclass=StructTupleMeta):\n",
    "    _fields_ = []\n",
    "    def __new__(cls, *args):\n",
    "        if len(args) != len(cls._fields_):\n",
    "            raise ValueError('{} arguments required'.format(len(cls._fields_)))\n",
    "        return super().__new__(cls,args)\n",
    "\n",
    "# Examples\n",
    "class Stock(StructTuple):\n",
    "    _fields_ = ['name', 'shares', 'price']\n",
    "\n",
    "class Point(StructTuple):\n",
    "    _fields_ = ['x', 'y']\n",
    "\n",
    "if __name__ == '__main__':\n",
    "    s = Stock('ACME', 50, 91.1)\n",
    "    print(s)\n",
    "    print(s[0])\n",
    "    print(s.name)\n",
    "    print(s.shares * s.price)\n",
    "    try:\n",
    "        s.shares = 23\n",
    "    except AttributeError as e:\n",
    "        print(e)\n"
   ]
  }
 ],
 "metadata": {
  "kernelspec": {
   "display_name": "Python 3",
   "language": "python",
   "name": "python3"
  },
  "language_info": {
   "codemirror_mode": {
    "name": "ipython",
    "version": 3
   },
   "file_extension": ".py",
   "mimetype": "text/x-python",
   "name": "python",
   "nbconvert_exporter": "python",
   "pygments_lexer": "ipython3",
   "version": "3.7.6"
  }
 },
 "nbformat": 4,
 "nbformat_minor": 4
}
