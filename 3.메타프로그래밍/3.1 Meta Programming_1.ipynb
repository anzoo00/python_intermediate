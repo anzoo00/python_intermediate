{
 "cells": [
  {
   "cell_type": "markdown",
   "metadata": {},
   "source": [
    "## 함수 감싸기 "
   ]
  },
  {
   "cell_type": "code",
   "execution_count": 2,
   "metadata": {},
   "outputs": [
    {
     "name": "stdout",
     "output_type": "stream",
     "text": [
      "countdown 0.004880189895629883\n",
      "countdown 0.46359729766845703\n"
     ]
    }
   ],
   "source": [
    "import time\n",
    "from functools import wraps\n",
    "\n",
    "def timethis(func):\n",
    "    @wraps(func)\n",
    "    def wrapper(*args, **kwargs):\n",
    "        start = time.time()\n",
    "        result = func(*args, **kwargs)\n",
    "        end = time.time()\n",
    "        print(func.__name__, end-start)\n",
    "        return result\n",
    "    return wrapper\n",
    "\n",
    "if __name__ == '__main__':\n",
    "    @timethis\n",
    "    def countdown(n:int):\n",
    "        while n > 0:\n",
    "            n -= 1\n",
    "\n",
    "    countdown(100000)\n",
    "    countdown(10000000)"
   ]
  },
  {
   "cell_type": "markdown",
   "metadata": {},
   "source": [
    "## 함수 메타데이터 보존 "
   ]
  },
  {
   "cell_type": "code",
   "execution_count": 8,
   "metadata": {},
   "outputs": [
    {
     "name": "stdout",
     "output_type": "stream",
     "text": [
      "countdown 0.004880428314208984\n",
      "Name: countdown\n",
      "Docstring: '\\n        Counts down\\n        '\n",
      "Annotations: {'n': <class 'int'>}\n"
     ]
    }
   ],
   "source": [
    "import time\n",
    "from functools import wraps\n",
    "\n",
    "def timethis(func):\n",
    "    '''\n",
    "    Decorator that reports the execution time.\n",
    "    '''\n",
    "    @wraps(func)\n",
    "    def wrapper(*args, **kwargs):\n",
    "        start = time.time()\n",
    "        result = func(*args, **kwargs)\n",
    "        end = time.time()\n",
    "        print(func.__name__, end-start)\n",
    "        return result\n",
    "    return wrapper\n",
    "\n",
    "if __name__ == '__main__':\n",
    "    @timethis\n",
    "    def countdown(n:int):\n",
    "        '''\n",
    "        Counts down\n",
    "        '''\n",
    "        while n > 0:\n",
    "            n -= 1\n",
    "\n",
    "    countdown(100000)\n",
    "    print('Name:', countdown.__name__)\n",
    "    print('Docstring:', repr(countdown.__doc__))\n",
    "    print('Annotations:', countdown.__annotations__)"
   ]
  },
  {
   "cell_type": "markdown",
   "metadata": {},
   "source": [
    "## 데코레이터 풀기 "
   ]
  },
  {
   "cell_type": "code",
   "execution_count": 12,
   "metadata": {},
   "outputs": [
    {
     "name": "stdout",
     "output_type": "stream",
     "text": [
      "Decorator 1\n",
      "Decorator 2\n",
      "5\n",
      "Decorator 2\n",
      "5\n"
     ]
    }
   ],
   "source": [
    "from functools import wraps\n",
    "\n",
    "def decorator1(func):\n",
    "    @wraps(func)\n",
    "    def wrapper(*args, **kwargs):\n",
    "        print('Decorator 1')\n",
    "        return func(*args, **kwargs)\n",
    "    return wrapper\n",
    "\n",
    "def decorator2(func):\n",
    "    @wraps(func)\n",
    "    def wrapper(*args, **kwargs):\n",
    "        print('Decorator 2')\n",
    "        return func(*args, **kwargs)\n",
    "    return wrapper\n",
    "\n",
    "@decorator1\n",
    "@decorator2\n",
    "def add(x, y):\n",
    "    return x + y\n",
    "\n",
    "# Calling wrapped function\n",
    "print(add(2,3))\n",
    "\n",
    "# Calling original function\n",
    "print(add.__wrapped__(2,3))"
   ]
  },
  {
   "cell_type": "markdown",
   "metadata": {},
   "source": [
    "## 매개변수를 받는 데코레이터 정의"
   ]
  },
  {
   "cell_type": "code",
   "execution_count": 13,
   "metadata": {},
   "outputs": [
    {
     "name": "stderr",
     "output_type": "stream",
     "text": [
      "DEBUG:__main__:add\n",
      "CRITICAL:example:spam\n"
     ]
    },
    {
     "name": "stdout",
     "output_type": "stream",
     "text": [
      "5\n",
      "Spam!\n"
     ]
    }
   ],
   "source": [
    "from functools import wraps\n",
    "import logging\n",
    "\n",
    "def logged(level, name=None, message=None):\n",
    "    '''\n",
    "    Add logging to a function.  level is the logging\n",
    "    level, name is the logger name, and message is the\n",
    "    log message.  If name and message aren't specified,\n",
    "    they default to the function's module and name.\n",
    "    '''\n",
    "    def decorate(func):\n",
    "        logname = name if name else func.__module__\n",
    "        log = logging.getLogger(logname)\n",
    "        logmsg = message if message else func.__name__\n",
    "\n",
    "        @wraps(func)\n",
    "        def wrapper(*args, **kwargs):\n",
    "            log.log(level, logmsg)\n",
    "            return func(*args, **kwargs)\n",
    "        return wrapper\n",
    "    return decorate\n",
    "\n",
    "# Example use\n",
    "@logged(logging.DEBUG)\n",
    "def add(x, y):\n",
    "    return x + y\n",
    "\n",
    "@logged(logging.CRITICAL, 'example')\n",
    "def spam():\n",
    "    print('Spam!')\n",
    "\n",
    "if __name__ == '__main__':\n",
    "    import logging\n",
    "    logging.basicConfig(level=logging.DEBUG)\n",
    "    print(add(2,3))\n",
    "    spam()"
   ]
  },
  {
   "cell_type": "markdown",
   "metadata": {},
   "source": [
    "## 사용자가 조절 가능한 속성을 가진 데코레이터"
   ]
  },
  {
   "cell_type": "code",
   "execution_count": 14,
   "metadata": {},
   "outputs": [
    {
     "name": "stderr",
     "output_type": "stream",
     "text": [
      "DEBUG:__main__:add\n",
      "DEBUG:__main__:Add called\n",
      "WARNING:__main__:Add called\n",
      "DEBUG:__main__:countdown\n",
      "CRITICAL:__main__:countdown\n",
      "DEBUG:__main__:countdown2\n",
      "CRITICAL:__main__:countdown2\n"
     ]
    },
    {
     "name": "stdout",
     "output_type": "stream",
     "text": [
      "5\n",
      "5\n",
      "5\n",
      "countdown 0.004878997802734375\n",
      "countdown 0.0058553218841552734\n",
      "countdown2 0.004911661148071289\n",
      "countdown2 0.0048792362213134766\n"
     ]
    }
   ],
   "source": [
    "from functools import wraps, partial\n",
    "import logging\n",
    "\n",
    "def attach_wrapper(obj, func=None):\n",
    "    if func is None:\n",
    "        return partial(attach_wrapper, obj)\n",
    "    setattr(obj, func.__name__, func)\n",
    "    return func\n",
    "\n",
    "def logged(level, name=None, message=None):\n",
    "    '''\n",
    "    Add logging to a function.  level is the logging\n",
    "    level, name is the logger name, and message is the\n",
    "    log message.  If name and message aren't specified,\n",
    "    they default to the function's module and name.\n",
    "    '''\n",
    "    def decorate(func):\n",
    "        logname = name if name else func.__module__\n",
    "        log = logging.getLogger(logname)\n",
    "        logmsg = message if message else func.__name__\n",
    "\n",
    "        @wraps(func)\n",
    "        def wrapper(*args, **kwargs):\n",
    "            log.log(level, logmsg)\n",
    "            return func(*args, **kwargs)\n",
    "\n",
    "        # Attach setter functions\n",
    "        @attach_wrapper(wrapper)\n",
    "        def set_level(newlevel):\n",
    "            nonlocal level\n",
    "            level = newlevel\n",
    "\n",
    "        @attach_wrapper(wrapper)\n",
    "        def set_message(newmsg):\n",
    "            nonlocal logmsg\n",
    "            logmsg = newmsg\n",
    "\n",
    "        return wrapper\n",
    "    return decorate\n",
    "\n",
    "# Example use\n",
    "@logged(logging.DEBUG)\n",
    "def add(x, y):\n",
    "    return x + y\n",
    "\n",
    "@logged(logging.CRITICAL, 'example')\n",
    "def spam():\n",
    "    print('Spam!')\n",
    "\n",
    "# Example involving multiple decorators\n",
    "\n",
    "import time\n",
    "def timethis(func):\n",
    "    @wraps(func)\n",
    "    def wrapper(*args, **kwargs):\n",
    "        start = time.time()\n",
    "        r = func(*args, **kwargs)\n",
    "        end = time.time()\n",
    "        print(func.__name__, end - start)\n",
    "        return r\n",
    "    return wrapper\n",
    "\n",
    "@timethis\n",
    "@logged(logging.DEBUG)\n",
    "def countdown(n):\n",
    "    while n > 0:\n",
    "        n -= 1\n",
    "\n",
    "\n",
    "@logged(logging.DEBUG)\n",
    "@timethis\n",
    "def countdown2(n):\n",
    "    while n > 0:\n",
    "        n -= 1\n",
    "\n",
    "if __name__ == '__main__':\n",
    "    import logging\n",
    "    logging.basicConfig(level=logging.DEBUG)\n",
    "    print(add(2, 3))\n",
    "\n",
    "    # Change the log message\n",
    "    add.set_message('Add called')\n",
    "    print(add(2, 3))\n",
    "\n",
    "    # Change the log level\n",
    "    add.set_level(logging.WARNING)\n",
    "    print(add(2, 3))\n",
    "\n",
    "    countdown(100000)\n",
    "    countdown.set_level(logging.CRITICAL)\n",
    "    countdown(100000)\n",
    "\n",
    "    countdown2(100000)\n",
    "    countdown2.set_level(logging.CRITICAL)\n",
    "    countdown2(100000)\n"
   ]
  },
  {
   "cell_type": "markdown",
   "metadata": {},
   "source": [
    "## 옵션 매개변수를 받는 데코레이터"
   ]
  },
  {
   "cell_type": "code",
   "execution_count": 15,
   "metadata": {},
   "outputs": [
    {
     "name": "stderr",
     "output_type": "stream",
     "text": [
      "DEBUG:__main__:add\n",
      "DEBUG:__main__:sub\n",
      "CRITICAL:example:spam\n"
     ]
    },
    {
     "name": "stdout",
     "output_type": "stream",
     "text": [
      "Spam!\n"
     ]
    }
   ],
   "source": [
    "from functools import wraps, partial\n",
    "import logging\n",
    "\n",
    "def logged(func=None, *, level=logging.DEBUG, name=None, message=None):\n",
    "    if func is None:\n",
    "        return partial(logged, level=level, name=name, message=message)\n",
    "\n",
    "    logname = name if name else func.__module__\n",
    "    log = logging.getLogger(logname)\n",
    "    logmsg = message if message else func.__name__\n",
    "    @wraps(func)\n",
    "    def wrapper(*args, **kwargs):\n",
    "        log.log(level, logmsg)\n",
    "        return func(*args, **kwargs)\n",
    "    return wrapper\n",
    "\n",
    "# Example use\n",
    "@logged\n",
    "def add(x, y):\n",
    "    return x + y\n",
    "\n",
    "@logged()\n",
    "def sub(x, y):\n",
    "    return x - y\n",
    "\n",
    "@logged(level=logging.CRITICAL, name='example')\n",
    "def spam():\n",
    "    print('Spam!')\n",
    "\n",
    "if __name__ == '__main__':\n",
    "    import logging\n",
    "    logging.basicConfig(level=logging.DEBUG)\n",
    "    add(2,3)\n",
    "    sub(2,3)\n",
    "    spam()\n"
   ]
  },
  {
   "cell_type": "code",
   "execution_count": null,
   "metadata": {},
   "outputs": [],
   "source": []
  }
 ],
 "metadata": {
  "kernelspec": {
   "display_name": "Python 3",
   "language": "python",
   "name": "python3"
  },
  "language_info": {
   "codemirror_mode": {
    "name": "ipython",
    "version": 3
   },
   "file_extension": ".py",
   "mimetype": "text/x-python",
   "name": "python",
   "nbconvert_exporter": "python",
   "pygments_lexer": "ipython3",
   "version": "3.7.6"
  }
 },
 "nbformat": 4,
 "nbformat_minor": 4
}
