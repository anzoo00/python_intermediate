{
 "cells": [
  {
   "cell_type": "markdown",
   "metadata": {},
   "source": [
    "## 인터페이스, 추상 베이스 클래스 정의"
   ]
  },
  {
   "cell_type": "code",
   "execution_count": 1,
   "metadata": {},
   "outputs": [
    {
     "name": "stdout",
     "output_type": "stream",
     "text": [
      "Can't instantiate abstract class IStream with abstract methods read, write\n",
      "reading\n",
      "writing\n",
      "serializing\n",
      "Expected an IStream\n",
      "serializing\n"
     ]
    }
   ],
   "source": [
    "from abc import ABCMeta, abstractmethod\n",
    "\n",
    "class IStream(metaclass=ABCMeta):\n",
    "    @abstractmethod\n",
    "    def read(self, maxbytes=-1):\n",
    "        pass\n",
    "    @abstractmethod\n",
    "    def write(self, data):\n",
    "        pass\n",
    "\n",
    "class SocketStream(IStream):\n",
    "    def read(self, maxbytes=-1):\n",
    "        print('reading')\n",
    "    def write(self, data):\n",
    "        print('writing')\n",
    "\n",
    "def serialize(obj, stream):\n",
    "    if not isinstance(stream, IStream):\n",
    "        raise TypeError('Expected an IStream')\n",
    "    print('serializing')\n",
    "\n",
    "if __name__ == '__main__':\n",
    "    try:\n",
    "        a = IStream()\n",
    "    except TypeError as e:\n",
    "        print(e)\n",
    "\n",
    "    a = SocketStream()\n",
    "    a.read()\n",
    "    a.write('data')\n",
    "\n",
    "    serialize(None, a)\n",
    "\n",
    "    import sys\n",
    "\n",
    "    try:\n",
    "        serialize(None, sys.stdout)\n",
    "    except TypeError as e:\n",
    "        print(e)\n",
    "\n",
    "    import io\n",
    "    IStream.register(io.IOBase)\n",
    "\n",
    "    serialize(None, sys.stdout)"
   ]
  },
  {
   "cell_type": "code",
   "execution_count": 2,
   "metadata": {},
   "outputs": [],
   "source": [
    "from abc import ABCMeta, abstractmethod\n",
    "\n",
    "class A(metaclass=ABCMeta):\n",
    "    @property\n",
    "    @abstractmethod\n",
    "    def name(self):\n",
    "        pass\n",
    "\n",
    "    @name.setter\n",
    "    @abstractmethod\n",
    "    def name(self, value):\n",
    "        pass\n",
    "\n",
    "    @classmethod\n",
    "    @abstractmethod\n",
    "    def method1(cls):\n",
    "        pass\n",
    "\n",
    "    @staticmethod\n",
    "    @abstractmethod\n",
    "    def method2():\n",
    "        pass\n"
   ]
  },
  {
   "cell_type": "markdown",
   "metadata": {},
   "source": [
    "## 커스텀 컨테이너 구현"
   ]
  },
  {
   "cell_type": "code",
   "execution_count": 5,
   "metadata": {},
   "outputs": [
    {
     "name": "stdout",
     "output_type": "stream",
     "text": [
      "[1, 3, 5]\n",
      "1\n",
      "5\n",
      "[1, 2, 3, 5]\n",
      "[-10, 1, 2, 3, 5]\n",
      "[1, 2, 3]\n",
      "True\n",
      "5\n",
      "-10\n",
      "1\n",
      "2\n",
      "3\n",
      "5\n"
     ]
    }
   ],
   "source": [
    "import collections.abc\n",
    "import bisect\n",
    "\n",
    "class SortedItems(collections.Sequence):\n",
    "    def __init__(self, initial=None):\n",
    "        self._items = sorted(initial) if initial is not None else []\n",
    "\n",
    "    def __getitem__(self, index):\n",
    "        return self._items[index]\n",
    "\n",
    "    def __len__(self):\n",
    "        return len(self._items)\n",
    "\n",
    "    def add(self, item):\n",
    "        bisect.insort(self._items, item)\n",
    "\n",
    "if __name__ == '__main__':\n",
    "   items = SortedItems([5, 1, 3])\n",
    "   print(list(items))\n",
    "   print(items[0])\n",
    "   print(items[-1])\n",
    "   items.add(2)\n",
    "   print(list(items))\n",
    "   items.add(-10)\n",
    "   print(list(items))\n",
    "   print(items[1:4])\n",
    "   print(3 in items)\n",
    "   print(len(items))\n",
    "   for n in items:\n",
    "       print(n)"
   ]
  },
  {
   "cell_type": "markdown",
   "metadata": {},
   "source": [
    "## 속성 접근 델리게이팅"
   ]
  },
  {
   "cell_type": "code",
   "execution_count": 6,
   "metadata": {},
   "outputs": [
    {
     "name": "stdout",
     "output_type": "stream",
     "text": [
      "B.bar\n",
      "A.spam\n"
     ]
    }
   ],
   "source": [
    "class A:\n",
    "    def spam(self, x):\n",
    "        print('A.spam')\n",
    "\n",
    "    def foo(self):\n",
    "        print('A.foo')\n",
    "\n",
    "class B:\n",
    "    def __init__(self):\n",
    "        self._a = A()   \n",
    "\n",
    "    def bar(self):\n",
    "        print('B.bar')\n",
    "\n",
    "    def __getattr__(self, name):\n",
    "        return getattr(self._a, name)\n",
    "\n",
    "if __name__ == '__main__':\n",
    "    b = B()\n",
    "    b.bar()\n",
    "    b.spam(42)"
   ]
  },
  {
   "cell_type": "code",
   "execution_count": 7,
   "metadata": {},
   "outputs": [
    {
     "name": "stdout",
     "output_type": "stream",
     "text": [
      "getattr: x\n",
      "2\n",
      "getattr: bar\n",
      "Spam.bar: 2 3\n",
      "setattr: x 37\n"
     ]
    }
   ],
   "source": [
    "class Proxy:\n",
    "    def __init__(self, obj):\n",
    "        self._obj = obj\n",
    "\n",
    "    def __getattr__(self, name):\n",
    "        print('getattr:', name)\n",
    "        return getattr(self._obj, name)\n",
    "\n",
    "    def __setattr__(self, name, value):\n",
    "        if name.startswith('_'):\n",
    "            super().__setattr__(name, value)\n",
    "        else:\n",
    "            print('setattr:', name, value)\n",
    "            setattr(self._obj, name, value)\n",
    "\n",
    "    def __delattr__(self, name):\n",
    "        if name.startswith('_'):\n",
    "            super().__delattr__(name)\n",
    "        else:\n",
    "            print('delattr:', name)\n",
    "            delattr(self._obj, name)\n",
    "\n",
    "if __name__ == '__main__':\n",
    "    class Spam:\n",
    "        def __init__(self, x):\n",
    "            self.x = x\n",
    "        def bar(self, y):\n",
    "            print('Spam.bar:', self.x, y)\n",
    "\n",
    "    s = Spam(2)\n",
    "\n",
    "    p = Proxy(s)\n",
    "\n",
    "    print(p.x)     \n",
    "    p.bar(3)       \n",
    "    p.x = 37       "
   ]
  },
  {
   "cell_type": "code",
   "execution_count": 8,
   "metadata": {},
   "outputs": [
    {
     "name": "stdout",
     "output_type": "stream",
     "text": [
      "2\n",
      "1\n"
     ]
    }
   ],
   "source": [
    "class ListLike:\n",
    "    def __init__(self):\n",
    "        self._items = []\n",
    "    def __getattr__(self, name):\n",
    "        return getattr(self._items, name)\n",
    "\n",
    "    def __len__(self):\n",
    "        return len(self._items)\n",
    "    def __getitem__(self, index):\n",
    "        return self._items[index]\n",
    "    def __setitem__(self, index, value):\n",
    "        self._items[index] = value\n",
    "    def __delitem__(self, index):\n",
    "        del self._items[index]\n",
    "\n",
    "if __name__ == '__main__':\n",
    "    a = ListLike()\n",
    "    a.append(2)\n",
    "    a.insert(0, 1)\n",
    "    a.sort()\n",
    "    print(len(a))\n",
    "    print(a[0])"
   ]
  },
  {
   "cell_type": "markdown",
   "metadata": {},
   "source": [
    "## 클래스에 생성자 여러 개 정의"
   ]
  },
  {
   "cell_type": "code",
   "execution_count": 10,
   "metadata": {},
   "outputs": [
    {
     "name": "stdout",
     "output_type": "stream",
     "text": [
      "2020 6 1\n",
      "2020 5 30\n",
      "Should be Date instance: <class '__main__.Date'>\n",
      "Should be NewDate instance: <class '__main__.NewDate'>\n"
     ]
    }
   ],
   "source": [
    "import time\n",
    "\n",
    "class Date:\n",
    "    def __init__(self, year, month, day):\n",
    "        self.year = year\n",
    "        self.month = month\n",
    "        self.day = day\n",
    "\n",
    "    @classmethod\n",
    "    def today(cls):\n",
    "        t = time.localtime()\n",
    "        return cls(t.tm_year, t.tm_mon, t.tm_mday)\n",
    "\n",
    "if __name__ == '__main__':\n",
    "    a = Date(2020, 6, 1)\n",
    "    b = Date.today()\n",
    "    print(a.year, a.month, a.day)\n",
    "    print(b.year, b.month, b.day)\n",
    "\n",
    "    class NewDate(Date):\n",
    "        pass\n",
    "\n",
    "    c = Date.today()\n",
    "    d = NewDate.today()\n",
    "    print('Should be Date instance:', Date)\n",
    "    print('Should be NewDate instance:', NewDate)\n"
   ]
  },
  {
   "cell_type": "markdown",
   "metadata": {},
   "source": [
    "## init 호출 없이 인스턴스 생성"
   ]
  },
  {
   "cell_type": "code",
   "execution_count": 12,
   "metadata": {},
   "outputs": [
    {
     "name": "stdout",
     "output_type": "stream",
     "text": [
      "<__main__.Date object at 0x0000017824404D48>\n",
      "False\n",
      "2020\n",
      "6\n",
      "2020 5 30\n"
     ]
    }
   ],
   "source": [
    "from time import localtime\n",
    "\n",
    "class Date:\n",
    "    def __init__(self, year, month, day):\n",
    "        self.year = year\n",
    "        self.month = month\n",
    "        self.day = day\n",
    "\n",
    "    @classmethod\n",
    "    def today(cls):\n",
    "        d = cls.__new__(cls)\n",
    "        t = localtime()\n",
    "        d.year = t.tm_year\n",
    "        d.month = t.tm_mon\n",
    "        d.day = t.tm_mday\n",
    "        return d\n",
    "\n",
    "d = Date.__new__(Date)\n",
    "print(d)\n",
    "print(hasattr(d,'year'))\n",
    "\n",
    "data = { \n",
    "    'year' : 2020,\n",
    "    'month' : 6,\n",
    "    'day' : 1\n",
    "}\n",
    "\n",
    "d.__dict__.update(data)\n",
    "print(d.year)\n",
    "print(d.month)\n",
    "\n",
    "d = Date.today()\n",
    "print(d.year, d.month, d.day)"
   ]
  },
  {
   "cell_type": "markdown",
   "metadata": {},
   "source": [
    "## 순환 자료 구조에서 메모리 관리 "
   ]
  },
  {
   "cell_type": "code",
   "execution_count": 13,
   "metadata": {},
   "outputs": [
    {
     "name": "stdout",
     "output_type": "stream",
     "text": [
      "Node('parent')\n",
      "None\n"
     ]
    }
   ],
   "source": [
    "import weakref\n",
    "\n",
    "class Node:\n",
    "    def __init__(self, value):\n",
    "        self.value = value\n",
    "        self._parent = None\n",
    "        self.children = []\n",
    "\n",
    "    def __repr__(self):\n",
    "        return 'Node({!r:})'.format(self.value)\n",
    "\n",
    "    @property\n",
    "    def parent(self):\n",
    "        return self._parent if self._parent is None else self._parent()\n",
    "\n",
    "    @parent.setter\n",
    "    def parent(self, node):\n",
    "        self._parent = weakref.ref(node)\n",
    "\n",
    "    def add_child(self, child):\n",
    "        self.children.append(child)\n",
    "        child.parent = self\n",
    "\n",
    "if __name__ == '__main__':\n",
    "    root = Node('parent')\n",
    "    c1 = Node('c1')\n",
    "    c2 = Node('c2')\n",
    "    root.add_child(c1)\n",
    "    root.add_child(c2)\n",
    "\n",
    "    print(c1.parent)\n",
    "    del root\n",
    "    print(c1.parent)"
   ]
  },
  {
   "cell_type": "code",
   "execution_count": 19,
   "metadata": {},
   "outputs": [
    {
     "name": "stdout",
     "output_type": "stream",
     "text": [
      "Data.__del__\n",
      "Data.__del__\n"
     ]
    }
   ],
   "source": [
    "class Data:\n",
    "    def __del__(self):\n",
    "        print('Data.__del__')\n",
    "\n",
    "class Node:\n",
    "    def __init__(self):\n",
    "        self.data = Data()\n",
    "        self.parent = None\n",
    "        self.children = []\n",
    "\n",
    "    def add_child(self, child):\n",
    "        self.children.append(child)\n",
    "        child.parent = self\n",
    "\n",
    "if __name__ == '__main__':\n",
    "    a = Data()\n",
    "    del a\n",
    "    a = Node()\n",
    "    del a\n",
    "    a = Node()\n",
    "    a.add_child(Node())"
   ]
  },
  {
   "cell_type": "code",
   "execution_count": 20,
   "metadata": {},
   "outputs": [
    {
     "name": "stdout",
     "output_type": "stream",
     "text": [
      "Data.__del__\n",
      "Data.__del__\n"
     ]
    },
    {
     "data": {
      "text/plain": [
       "41"
      ]
     },
     "execution_count": 20,
     "metadata": {},
     "output_type": "execute_result"
    }
   ],
   "source": [
    "import gc\n",
    "gc.collect()"
   ]
  },
  {
   "cell_type": "markdown",
   "metadata": {},
   "source": [
    "## 비교 연산을 지원하는 클래스 만들기 "
   ]
  },
  {
   "cell_type": "code",
   "execution_count": 21,
   "metadata": {},
   "outputs": [
    {
     "name": "stdout",
     "output_type": "stream",
     "text": [
      "Is h1 bigger than h2? True\n",
      "Is h2 smaller than h3? True\n",
      "Is h2 greater than or equal to h1? False\n",
      "Which one is biggest? h3: 1101 square foot Split\n",
      "Which is smallest? h2: 846 square foot Ranch\n"
     ]
    }
   ],
   "source": [
    "from functools import total_ordering\n",
    "class Room:\n",
    "    def __init__(self, name, length, width):\n",
    "        self.name = name\n",
    "        self.length = length\n",
    "        self.width = width\n",
    "        self.square_feet = self.length * self.width\n",
    "\n",
    "@total_ordering\n",
    "class House:\n",
    "    def __init__(self, name, style):\n",
    "        self.name = name\n",
    "        self.style = style\n",
    "        self.rooms = list()\n",
    "\n",
    "    @property\n",
    "    def living_space_footage(self):\n",
    "        return sum(r.square_feet for r in self.rooms)\n",
    "\n",
    "    def add_room(self, room):\n",
    "        self.rooms.append(room)\n",
    "\n",
    "    def __str__(self):\n",
    "        return '{}: {} square foot {}'.format(self.name, \n",
    "                                              self.living_space_footage, \n",
    "                                              self.style)\n",
    "\n",
    "    def __eq__(self, other):\n",
    "        return self.living_space_footage == other.living_space_footage\n",
    "\n",
    "    def __lt__(self, other):\n",
    "        return self.living_space_footage < other.living_space_footage \n",
    "\n",
    "h1 = House('h1', 'Cape')\n",
    "h1.add_room(Room('Master Bedroom', 14, 21))\n",
    "h1.add_room(Room('Living Room', 18, 20))\n",
    "h1.add_room(Room('Kitchen', 12, 16))\n",
    "h1.add_room(Room('Office', 12, 12))\n",
    "\n",
    "h2 = House('h2', 'Ranch')\n",
    "h2.add_room(Room('Master Bedroom', 14, 21))\n",
    "h2.add_room(Room('Living Room', 18, 20))\n",
    "h2.add_room(Room('Kitchen', 12, 16))\n",
    "\n",
    "h3 = House('h3', 'Split')\n",
    "h3.add_room(Room('Master Bedroom', 14, 21))\n",
    "h3.add_room(Room('Living Room', 18, 20))\n",
    "h3.add_room(Room('Office', 12, 16))\n",
    "h3.add_room(Room('Kitchen', 15, 17))\n",
    "houses = [h1, h2, h3]\n",
    "\n",
    "print(\"Is h1 bigger than h2?\", h1 > h2) \n",
    "print(\"Is h2 smaller than h3?\", h2 < h3) \n",
    "print(\"Is h2 greater than or equal to h1?\", h2 >= h1) \n",
    "print(\"Which one is biggest?\", max(houses)) \n",
    "print(\"Which is smallest?\", min(houses)) "
   ]
  },
  {
   "cell_type": "code",
   "execution_count": null,
   "metadata": {},
   "outputs": [],
   "source": []
  }
 ],
 "metadata": {
  "kernelspec": {
   "display_name": "Python 3",
   "language": "python",
   "name": "python3"
  },
  "language_info": {
   "codemirror_mode": {
    "name": "ipython",
    "version": 3
   },
   "file_extension": ".py",
   "mimetype": "text/x-python",
   "name": "python",
   "nbconvert_exporter": "python",
   "pygments_lexer": "ipython3",
   "version": "3.7.6"
  }
 },
 "nbformat": 4,
 "nbformat_minor": 4
}
