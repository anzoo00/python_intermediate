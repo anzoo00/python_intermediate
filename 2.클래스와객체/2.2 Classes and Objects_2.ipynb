{
 "cells": [
  {
   "cell_type": "markdown",
   "metadata": {},
   "source": [
    "## 부모 클래스의 메소드 호출"
   ]
  },
  {
   "cell_type": "code",
   "execution_count": 1,
   "metadata": {},
   "outputs": [
    {
     "name": "stdout",
     "output_type": "stream",
     "text": [
      "B.spam\n",
      "A.spam\n"
     ]
    }
   ],
   "source": [
    "class A:\n",
    "    def spam(self):\n",
    "        print('A.spam')\n",
    "\n",
    "class B(A):\n",
    "    def spam(self):\n",
    "        print('B.spam')\n",
    "        super().spam()      # Call parent spam()\n",
    "\n",
    "if __name__ == '__main__':\n",
    "    b = B()\n",
    "    b.spam()"
   ]
  },
  {
   "cell_type": "code",
   "execution_count": 2,
   "metadata": {},
   "outputs": [
    {
     "name": "stdout",
     "output_type": "stream",
     "text": [
      "0 1\n"
     ]
    }
   ],
   "source": [
    "class A:\n",
    "    def __init__(self):\n",
    "        self.x = 0\n",
    "\n",
    "class B(A):\n",
    "    def __init__(self):\n",
    "        super().__init__()\n",
    "        self.y = 1\n",
    "\n",
    "if __name__ == '__main__':\n",
    "    b = B()\n",
    "    print(b.x, b.y)"
   ]
  },
  {
   "cell_type": "code",
   "execution_count": 3,
   "metadata": {},
   "outputs": [
    {
     "name": "stdout",
     "output_type": "stream",
     "text": [
      "42\n",
      "A.spam\n",
      "None\n",
      "Should be 37: 37\n",
      "Should be 37: 37\n"
     ]
    }
   ],
   "source": [
    "class Proxy:\n",
    "    def __init__(self, obj):\n",
    "        self._obj = obj\n",
    "\n",
    "    # Delegate attribute lookup to internal obj\n",
    "    def __getattr__(self, name):\n",
    "        return getattr(self._obj, name)\n",
    "\n",
    "    # Delegate attribute assignment\n",
    "    def __setattr__(self, name, value):\n",
    "        if name.startswith('_'):\n",
    "            super().__setattr__(name, value)    # Call original __setattr__\n",
    "        else:\n",
    "            setattr(self._obj, name, value)\n",
    "\n",
    "if __name__ == '__main__':\n",
    "    class A:\n",
    "        def __init__(self, x):\n",
    "            self.x = x\n",
    "        def spam(self):\n",
    "            print('A.spam')\n",
    "\n",
    "    a = A(42)\n",
    "    p = Proxy(a)\n",
    "    print(p.x)\n",
    "    print(p.spam())\n",
    "    p.x = 37\n",
    "    print('Should be 37:', p.x)\n",
    "    print('Should be 37:', a.x)"
   ]
  },
  {
   "cell_type": "code",
   "execution_count": 4,
   "metadata": {},
   "outputs": [
    {
     "name": "stdout",
     "output_type": "stream",
     "text": [
      "Base.__init__\n",
      "A.__init__\n",
      "Base.__init__\n",
      "B.__init__\n",
      "C.__init__\n"
     ]
    }
   ],
   "source": [
    "# Tricky initialization problem involving multiple inheritance.\n",
    "# Does NOT use super()\n",
    "\n",
    "class Base:\n",
    "    def __init__(self):\n",
    "        print('Base.__init__')\n",
    "\n",
    "class A(Base):\n",
    "    def __init__(self):\n",
    "        Base.__init__(self)\n",
    "        print('A.__init__')\n",
    "\n",
    "class B(Base):\n",
    "    def __init__(self):\n",
    "        Base.__init__(self)\n",
    "        print('B.__init__')\n",
    "\n",
    "class C(A,B):\n",
    "    def __init__(self):\n",
    "        A.__init__(self)\n",
    "        B.__init__(self)\n",
    "        print('C.__init__')\n",
    "\n",
    "if __name__ == '__main__':\n",
    "    # Please observe double call of Base.__init__\n",
    "    c = C()\n"
   ]
  },
  {
   "cell_type": "code",
   "execution_count": 5,
   "metadata": {},
   "outputs": [
    {
     "name": "stdout",
     "output_type": "stream",
     "text": [
      "Base.__init__\n",
      "B.__init__\n",
      "A.__init__\n",
      "C.__init__\n"
     ]
    }
   ],
   "source": [
    "# Tricky initialization problem involving multiple inheritance.\n",
    "# Uses super()\n",
    "\n",
    "class Base:\n",
    "    def __init__(self):\n",
    "        print('Base.__init__')\n",
    "\n",
    "class A(Base):\n",
    "    def __init__(self):\n",
    "        super().__init__()\n",
    "        print('A.__init__')\n",
    "\n",
    "class B(Base):\n",
    "    def __init__(self):\n",
    "        super().__init__()\n",
    "        print('B.__init__')\n",
    "\n",
    "class C(A,B):\n",
    "    def __init__(self):\n",
    "        super().__init__()     # Only one call to super() here\n",
    "        print('C.__init__')\n",
    "\n",
    "if __name__ == '__main__':\n",
    "    # Observe that each class initialized only once\n",
    "    c = C()"
   ]
  },
  {
   "cell_type": "markdown",
   "metadata": {},
   "source": [
    "## 서브클래스에서 프로퍼티 확장"
   ]
  },
  {
   "cell_type": "code",
   "execution_count": 11,
   "metadata": {},
   "outputs": [
    {
     "name": "stdout",
     "output_type": "stream",
     "text": [
      "Setting name to Guido\n",
      "Getting name\n",
      "Guido\n",
      "Setting name to Dave\n",
      "Getting name\n",
      "Dave\n",
      "Setting name to 42\n",
      "Expected a string\n"
     ]
    }
   ],
   "source": [
    "# Example of managed attributes via properties\n",
    "\n",
    "class Person:\n",
    "    def __init__(self, name):\n",
    "        self.name = name\n",
    "\n",
    "    # Getter function\n",
    "    @property\n",
    "    def name(self):\n",
    "        return self._name\n",
    "\n",
    "    # Setter function\n",
    "    @name.setter\n",
    "    def name(self, value):\n",
    "        if not isinstance(value, str):\n",
    "            raise TypeError('Expected a string')\n",
    "        self._name = value\n",
    "\n",
    "    @name.deleter\n",
    "    def name(self):\n",
    "        raise AttributeError(\"Can't delete attribute\")\n",
    "\n",
    "class SubPerson(Person):\n",
    "    @property\n",
    "    def name(self):\n",
    "        print('Getting name')\n",
    "        return super().name\n",
    "\n",
    "    @name.setter\n",
    "    def name(self, value):\n",
    "        print('Setting name to', value)\n",
    "        super(SubPerson, SubPerson).name.__set__(self, value)\n",
    "\n",
    "    @name.deleter\n",
    "    def name(self):\n",
    "        print('Deleting name')\n",
    "        super(SubPerson, SubPerson).name.__delete__(self)\n",
    "\n",
    "if __name__ == '__main__':\n",
    "   a = SubPerson('Guido')\n",
    "   print(a.name)\n",
    "   a.name = 'Dave'\n",
    "   print(a.name)\n",
    "   try:\n",
    "       a.name = 42\n",
    "   except TypeError as e:\n",
    "       print(e)"
   ]
  },
  {
   "cell_type": "markdown",
   "metadata": {},
   "source": [
    "## 새로운 클래스나 인스턴스 속성 만들기"
   ]
  },
  {
   "cell_type": "code",
   "execution_count": 12,
   "metadata": {},
   "outputs": [
    {
     "name": "stdout",
     "output_type": "stream",
     "text": [
      "2\n",
      "Expected an int\n"
     ]
    }
   ],
   "source": [
    "class Integer:\n",
    "    def __init__(self, name):\n",
    "        self.name = name\n",
    "\n",
    "    def __get__(self, instance, cls):\n",
    "        if instance is None:\n",
    "            return self\n",
    "        else:\n",
    "            return instance.__dict__[self.name]\n",
    "\n",
    "    def __set__(self, instance, value):\n",
    "        if not isinstance(value, int):\n",
    "            raise TypeError('Expected an int')\n",
    "        instance.__dict__[self.name] = value\n",
    "\n",
    "    def __delete__(self, instance):\n",
    "        del instance.__dict__[self.name]\n",
    "\n",
    "class Point:\n",
    "    x = Integer('x')\n",
    "    y = Integer('y')\n",
    "    def __init__(self, x, y):\n",
    "        self.x = x\n",
    "        self.y = y\n",
    "\n",
    "if __name__ == '__main__':\n",
    "    p = Point(2, 3)\n",
    "    print(p.x)\n",
    "    p.y = 5\n",
    "    try:\n",
    "        p.x = 2.3\n",
    "    except TypeError as e:\n",
    "        print(e)"
   ]
  },
  {
   "cell_type": "markdown",
   "metadata": {},
   "source": [
    "## 게으른 계산을 하는 프로퍼티 사용"
   ]
  },
  {
   "cell_type": "code",
   "execution_count": 14,
   "metadata": {},
   "outputs": [],
   "source": [
    "class lazyproperty:\n",
    "    def __init__(self, func):\n",
    "        self.func = func\n",
    "    def __get__(self, instance, cls):\n",
    "        if instance is None:\n",
    "            return self\n",
    "        else:\n",
    "            value = self.func(instance)\n",
    "            setattr(instance, self.func.__name__, value)\n",
    "            return value\n",
    "        \n",
    "if __name__ == '__main__':\n",
    "    import math\n",
    "    class Circle:\n",
    "        def __init__(self, radius):\n",
    "            self.radius = radius\n",
    "\n",
    "        @lazyproperty\n",
    "        def area(self):\n",
    "            print('Computing area')\n",
    "            return math.pi * self.radius ** 2\n",
    "\n",
    "        @lazyproperty\n",
    "        def perimeter(self):\n",
    "            print('Computing perimeter')\n",
    "            return 2 * math.pi * self.radius"
   ]
  },
  {
   "cell_type": "code",
   "execution_count": 15,
   "metadata": {},
   "outputs": [
    {
     "data": {
      "text/plain": [
       "4.0"
      ]
     },
     "execution_count": 15,
     "metadata": {},
     "output_type": "execute_result"
    }
   ],
   "source": [
    "c = Circle(4.0)\n",
    "c.radius"
   ]
  },
  {
   "cell_type": "code",
   "execution_count": 16,
   "metadata": {},
   "outputs": [
    {
     "name": "stdout",
     "output_type": "stream",
     "text": [
      "Computing area\n"
     ]
    },
    {
     "data": {
      "text/plain": [
       "50.26548245743669"
      ]
     },
     "execution_count": 16,
     "metadata": {},
     "output_type": "execute_result"
    }
   ],
   "source": [
    "c.area"
   ]
  },
  {
   "cell_type": "code",
   "execution_count": 17,
   "metadata": {},
   "outputs": [
    {
     "data": {
      "text/plain": [
       "50.26548245743669"
      ]
     },
     "execution_count": 17,
     "metadata": {},
     "output_type": "execute_result"
    }
   ],
   "source": [
    "c.area"
   ]
  },
  {
   "cell_type": "code",
   "execution_count": 18,
   "metadata": {},
   "outputs": [
    {
     "name": "stdout",
     "output_type": "stream",
     "text": [
      "Computing perimeter\n"
     ]
    },
    {
     "data": {
      "text/plain": [
       "25.132741228718345"
      ]
     },
     "execution_count": 18,
     "metadata": {},
     "output_type": "execute_result"
    }
   ],
   "source": [
    "c.perimeter"
   ]
  },
  {
   "cell_type": "code",
   "execution_count": 19,
   "metadata": {},
   "outputs": [
    {
     "data": {
      "text/plain": [
       "25.132741228718345"
      ]
     },
     "execution_count": 19,
     "metadata": {},
     "output_type": "execute_result"
    }
   ],
   "source": [
    "c.perimeter"
   ]
  },
  {
   "cell_type": "markdown",
   "metadata": {},
   "source": [
    "## 자료 구조 초기화 단순화하기"
   ]
  },
  {
   "cell_type": "code",
   "execution_count": 20,
   "metadata": {},
   "outputs": [
    {
     "name": "stdout",
     "output_type": "stream",
     "text": [
      "ACME 50 91.1\n",
      "2 3\n",
      "4.5\n",
      "Expected 3 arguments\n"
     ]
    }
   ],
   "source": [
    "class Structure:\n",
    "    # Class variable that specifies expected fields\n",
    "    _fields= []\n",
    "    def __init__(self, *args):\n",
    "        if len(args) != len(self._fields):\n",
    "            raise TypeError('Expected {} arguments'.format(len(self._fields)))\n",
    "\n",
    "        # Set the arguments\n",
    "        for name, value in zip(self._fields, args):\n",
    "            setattr(self, name, value)\n",
    "        \n",
    "# Example class definitions\n",
    "if __name__ == '__main__':\n",
    "    class Stock(Structure):\n",
    "        _fields = ['name', 'shares', 'price']\n",
    "\n",
    "    class Point(Structure):\n",
    "        _fields = ['x','y']\n",
    "\n",
    "    class Circle(Structure):\n",
    "        _fields = ['radius']\n",
    "        def area(self):\n",
    "            return math.pi * self.radius ** 2\n",
    "\n",
    "if __name__ == '__main__':\n",
    "    s = Stock('ACME', 50, 91.1)\n",
    "    print(s.name, s.shares, s.price)\n",
    "\n",
    "    p = Point(2,3)\n",
    "    print(p.x, p.y)\n",
    "\n",
    "    c = Circle(4.5)\n",
    "    print(c.radius)\n",
    "\n",
    "    try:\n",
    "        s2 = Stock('ACME', 50)\n",
    "    except TypeError as e:\n",
    "        print(e)"
   ]
  },
  {
   "cell_type": "code",
   "execution_count": 21,
   "metadata": {},
   "outputs": [],
   "source": [
    "class Structure:\n",
    "    _fields= []\n",
    "    def __init__(self, *args, **kwargs):\n",
    "        if len(args) > len(self._fields):\n",
    "            raise TypeError('Expected {} arguments'.format(len(self._fields)))\n",
    "\n",
    "        # Set all of the positional arguments\n",
    "        for name, value in zip(self._fields, args):\n",
    "            setattr(self, name, value)\n",
    "\n",
    "        # Set the remaining keyword arguments\n",
    "        for name in self._fields[len(args):]:\n",
    "            setattr(self, name, kwargs.pop(name))\n",
    "\n",
    "        # Check for any remaining unknown arguments\n",
    "        if kwargs:\n",
    "            raise TypeError('Invalid argument(s): {}'.format(','.join(kwargs)))\n",
    "        \n",
    "# Example use\n",
    "if __name__ == '__main__':\n",
    "    class Stock(Structure):\n",
    "        _fields = ['name', 'shares', 'price']\n",
    "\n",
    "    s1 = Stock('ACME', 50, 91.1)\n",
    "    s2 = Stock('ACME', 50, price=91.1)\n",
    "    s3 = Stock('ACME', shares=50, price=91.1)"
   ]
  },
  {
   "cell_type": "code",
   "execution_count": 22,
   "metadata": {},
   "outputs": [],
   "source": [
    "class Structure:\n",
    "    # Class variable that specifies expected fields\n",
    "    _fields= []\n",
    "    def __init__(self, *args, **kwargs):\n",
    "        if len(args) != len(self._fields):\n",
    "            raise TypeError('Expected {} arguments'.format(len(self._fields)))\n",
    "       \n",
    "        # Set the arguments\n",
    "        for name, value in zip(self._fields, args):\n",
    "            setattr(self, name, value)\n",
    "\n",
    "        # Set the additional arguments (if any)\n",
    "        extra_args = kwargs.keys() - self._fields\n",
    "        for name in extra_args:\n",
    "            setattr(self, name, kwargs.pop(name))\n",
    "        if kwargs:\n",
    "            raise TypeError('Duplicate values for {}'.format(','.join(kwargs)))\n",
    "        \n",
    "# Example use\n",
    "if __name__ == '__main__':\n",
    "    class Stock(Structure):\n",
    "        _fields = ['name', 'shares', 'price']\n",
    "\n",
    "    s1 = Stock('ACME', 50, 91.1)\n",
    "    s2 = Stock('ACME', 50, 91.1, date='6/1/2020')"
   ]
  },
  {
   "cell_type": "code",
   "execution_count": null,
   "metadata": {},
   "outputs": [],
   "source": []
  }
 ],
 "metadata": {
  "kernelspec": {
   "display_name": "Python 3",
   "language": "python",
   "name": "python3"
  },
  "language_info": {
   "codemirror_mode": {
    "name": "ipython",
    "version": 3
   },
   "file_extension": ".py",
   "mimetype": "text/x-python",
   "name": "python",
   "nbconvert_exporter": "python",
   "pygments_lexer": "ipython3",
   "version": "3.7.6"
  }
 },
 "nbformat": 4,
 "nbformat_minor": 4
}
