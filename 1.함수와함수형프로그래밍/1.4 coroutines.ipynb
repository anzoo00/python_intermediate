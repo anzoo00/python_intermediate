{
 "cells": [
  {
   "cell_type": "markdown",
   "metadata": {},
   "source": [
    "## 코루틴과 yield 표현식"
   ]
  },
  {
   "cell_type": "code",
   "execution_count": 89,
   "metadata": {},
   "outputs": [],
   "source": [
    "def receiver():\n",
    "    print(\"Ready to receive\")\n",
    "    while True:\n",
    "        n = yield\n",
    "        print(\"Got %s\" % n)"
   ]
  },
  {
   "cell_type": "code",
   "execution_count": 90,
   "metadata": {},
   "outputs": [
    {
     "name": "stdout",
     "output_type": "stream",
     "text": [
      "Ready to receive\n"
     ]
    }
   ],
   "source": [
    "r = receiver()\n",
    "next(r)"
   ]
  },
  {
   "cell_type": "code",
   "execution_count": 92,
   "metadata": {},
   "outputs": [
    {
     "name": "stdout",
     "output_type": "stream",
     "text": [
      "Got 1\n"
     ]
    }
   ],
   "source": [
    "r.send(1)"
   ]
  },
  {
   "cell_type": "code",
   "execution_count": 93,
   "metadata": {},
   "outputs": [
    {
     "name": "stdout",
     "output_type": "stream",
     "text": [
      "Got 2\n"
     ]
    }
   ],
   "source": [
    "r.send(2)"
   ]
  },
  {
   "cell_type": "code",
   "execution_count": 94,
   "metadata": {},
   "outputs": [
    {
     "name": "stdout",
     "output_type": "stream",
     "text": [
      "Got Hello\n"
     ]
    }
   ],
   "source": [
    "r.send(\"Hello\")"
   ]
  },
  {
   "cell_type": "markdown",
   "metadata": {},
   "source": [
    "## 코루틴과 데코레이터"
   ]
  },
  {
   "cell_type": "code",
   "execution_count": 101,
   "metadata": {},
   "outputs": [],
   "source": [
    "def coroutine(func):\n",
    "    def start(*args, **kwargs):\n",
    "        g = func(*args, **kwargs)\n",
    "        next(g)\n",
    "        return g\n",
    "    return start\n",
    "\n",
    "@coroutine\n",
    "def receiver():\n",
    "    print(\"Ready to receive\")\n",
    "    while True:\n",
    "        n = (yield)\n",
    "        print(\"Got %s\" % n)"
   ]
  },
  {
   "cell_type": "code",
   "execution_count": 102,
   "metadata": {},
   "outputs": [
    {
     "name": "stdout",
     "output_type": "stream",
     "text": [
      "Ready to receive\n",
      "Got Hello World\n"
     ]
    }
   ],
   "source": [
    "r = receiver()\n",
    "r.send(\"Hello World\")"
   ]
  },
  {
   "cell_type": "code",
   "execution_count": 104,
   "metadata": {},
   "outputs": [
    {
     "ename": "StopIteration",
     "evalue": "",
     "output_type": "error",
     "traceback": [
      "\u001b[1;31m---------------------------------------------------------------------------\u001b[0m",
      "\u001b[1;31mStopIteration\u001b[0m                             Traceback (most recent call last)",
      "\u001b[1;32m<ipython-input-104-a529e2e7c9bc>\u001b[0m in \u001b[0;36m<module>\u001b[1;34m\u001b[0m\n\u001b[0;32m      1\u001b[0m \u001b[0mr\u001b[0m\u001b[1;33m.\u001b[0m\u001b[0mclose\u001b[0m\u001b[1;33m(\u001b[0m\u001b[1;33m)\u001b[0m\u001b[1;33m\u001b[0m\u001b[1;33m\u001b[0m\u001b[0m\n\u001b[1;32m----> 2\u001b[1;33m \u001b[0mr\u001b[0m\u001b[1;33m.\u001b[0m\u001b[0msend\u001b[0m\u001b[1;33m(\u001b[0m\u001b[1;36m4\u001b[0m\u001b[1;33m)\u001b[0m\u001b[1;33m\u001b[0m\u001b[1;33m\u001b[0m\u001b[0m\n\u001b[0m",
      "\u001b[1;31mStopIteration\u001b[0m: "
     ]
    }
   ],
   "source": [
    "r.close()\n",
    "r.send(4)"
   ]
  },
  {
   "cell_type": "markdown",
   "metadata": {},
   "source": [
    "## 생성기와 코루틴의 활용 "
   ]
  },
  {
   "cell_type": "code",
   "execution_count": 105,
   "metadata": {},
   "outputs": [],
   "source": [
    "import os\n",
    "import fnmatch\n",
    "def find_files(topdir, pattern):\n",
    "    for path, dirname, filelist in os.walk(topdir):\n",
    "        for name in filelist:\n",
    "            if fnmatch.fnmatch(name, pattern):\n",
    "                yield os.path.join(path,name)\n",
    "\n",
    "def opener(filenames):\n",
    "    for name in filenames:\n",
    "        f = open(name)\n",
    "        yield f\n",
    "        \n",
    "def cat(filelist):\n",
    "    for f in filelist:\n",
    "        for line in f:\n",
    "            yield line\n",
    "            \n",
    "def grep(pattern, filelist):\n",
    "    for line in lines:\n",
    "        if pattern in line:\n",
    "            yield line"
   ]
  },
  {
   "cell_type": "code",
   "execution_count": 109,
   "metadata": {},
   "outputs": [
    {
     "name": "stdout",
     "output_type": "stream",
     "text": [
      "linux:x:1000:1000:linux,,,:/home/linux:/bin/bash\n",
      "\n"
     ]
    }
   ],
   "source": [
    "passwd = find_files(\".\", \"passwd\")\n",
    "files = opener(passwd)\n",
    "lines = cat(files)\n",
    "pylines = grep(\"linux\", lines)\n",
    "for line in pylines:\n",
    "    print(line)"
   ]
  },
  {
   "cell_type": "code",
   "execution_count": 113,
   "metadata": {},
   "outputs": [],
   "source": [
    "import os\n",
    "import fnmatch\n",
    "\n",
    "@coroutine\n",
    "def find_files(target):\n",
    "    while True:\n",
    "        topdir, pattern = (yield)\n",
    "        for path, dirname, filelist in os.walk(topdir):\n",
    "            for name in filelist:\n",
    "                if fnmatch.fnmatch(name, pattern):\n",
    "                    target.send(os.path.join(path,name))\n",
    "\n",
    "@coroutine                \n",
    "def opener(target):\n",
    "    while True:\n",
    "        name = (yield)\n",
    "        f = open(name)\n",
    "        target.send(f)\n",
    "        \n",
    "@coroutine                \n",
    "def cat(target):\n",
    "    while True:\n",
    "        f = (yield)\n",
    "        for line in f:\n",
    "            target.send(line)\n",
    "\n",
    "@coroutine                \n",
    "def grep(pattern, target):\n",
    "    while True:\n",
    "        line = (yield)\n",
    "        if pattern in line:\n",
    "            target.send(line)\n",
    "            \n",
    "@coroutine                \n",
    "def printer():\n",
    "    while True:\n",
    "        line = (yield)\n",
    "        print(line)"
   ]
  },
  {
   "cell_type": "code",
   "execution_count": 116,
   "metadata": {},
   "outputs": [
    {
     "name": "stdout",
     "output_type": "stream",
     "text": [
      "linux:x:1000:1000:linux,,,:/home/linux:/bin/bash\n",
      "\n"
     ]
    }
   ],
   "source": [
    "finder = find_files(opener(cat(grep(\"linux\", printer()))))\n",
    "finder.send((\".\", \"passwd\"))"
   ]
  },
  {
   "cell_type": "code",
   "execution_count": null,
   "metadata": {},
   "outputs": [],
   "source": []
  }
 ],
 "metadata": {
  "kernelspec": {
   "display_name": "Python 3",
   "language": "python",
   "name": "python3"
  },
  "language_info": {
   "codemirror_mode": {
    "name": "ipython",
    "version": 3
   },
   "file_extension": ".py",
   "mimetype": "text/x-python",
   "name": "python",
   "nbconvert_exporter": "python",
   "pygments_lexer": "ipython3",
   "version": "3.7.6"
  }
 },
 "nbformat": 4,
 "nbformat_minor": 4
}
