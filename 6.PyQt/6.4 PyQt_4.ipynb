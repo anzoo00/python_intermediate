{
 "cells": [
  {
   "cell_type": "markdown",
   "metadata": {},
   "source": [
    "# PyQt로 계산기 만들기"
   ]
  },
  {
   "cell_type": "markdown",
   "metadata": {},
   "source": [
    "## 스켈레톤 만들기"
   ]
  },
  {
   "cell_type": "code",
   "execution_count": 1,
   "metadata": {},
   "outputs": [
    {
     "ename": "SystemExit",
     "evalue": "0",
     "output_type": "error",
     "traceback": [
      "An exception has occurred, use %tb to see the full traceback.\n",
      "\u001b[1;31mSystemExit\u001b[0m\u001b[1;31m:\u001b[0m 0\n"
     ]
    },
    {
     "name": "stderr",
     "output_type": "stream",
     "text": [
      "C:\\Users\\jikim\\anaconda3\\lib\\site-packages\\IPython\\core\\interactiveshell.py:3339: UserWarning: To exit: use 'exit', 'quit', or Ctrl-D.\n",
      "  warn(\"To exit: use 'exit', 'quit', or Ctrl-D.\", stacklevel=1)\n"
     ]
    }
   ],
   "source": [
    "import sys\n",
    "\n",
    "from PyQt5.QtWidgets import QApplication\n",
    "from PyQt5.QtWidgets import QMainWindow\n",
    "from PyQt5.QtWidgets import QWidget\n",
    "\n",
    "class PyCalcUi(QMainWindow):\n",
    "    def __init__(self):\n",
    "        super().__init__()\n",
    "        self.setWindowTitle('PyCalc')\n",
    "        self.setFixedSize(235, 235)\n",
    "        self._centralWidget = QWidget(self)\n",
    "        self.setCentralWidget(self._centralWidget)\n",
    "\n",
    "def main():\n",
    "    pycalc = QApplication(sys.argv)\n",
    "    view = PyCalcUi()\n",
    "    view.show()\n",
    "    sys.exit(pycalc.exec_())\n",
    "\n",
    "if __name__ == '__main__':\n",
    "    main()"
   ]
  },
  {
   "cell_type": "markdown",
   "metadata": {},
   "source": [
    "## 뷰 완성"
   ]
  },
  {
   "cell_type": "code",
   "execution_count": 2,
   "metadata": {},
   "outputs": [],
   "source": [
    "import sys\n",
    "\n",
    "from PyQt5.QtCore import Qt\n",
    "from PyQt5.QtWidgets import QGridLayout\n",
    "from PyQt5.QtWidgets import QLineEdit\n",
    "from PyQt5.QtWidgets import QPushButton\n",
    "from PyQt5.QtWidgets import QVBoxLayout\n",
    "from PyQt5.QtWidgets import QApplication\n",
    "from PyQt5.QtWidgets import QMainWindow\n",
    "from PyQt5.QtWidgets import QWidget\n",
    "from functools import partial\n",
    "\n",
    "class PyCalcUi(QMainWindow):\n",
    "    def __init__(self):\n",
    "        super().__init__()\n",
    "        self.setWindowTitle('PyCalc')\n",
    "        self.setFixedSize(235, 235)\n",
    "        self.generalLayout = QVBoxLayout()\n",
    "        self._centralWidget = QWidget(self)\n",
    "        self.setCentralWidget(self._centralWidget)\n",
    "        self._centralWidget.setLayout(self.generalLayout)\n",
    "        self._createDisplay()\n",
    "        self._createButtons()\n",
    "        \n",
    "    def _createDisplay(self):\n",
    "        self.display = QLineEdit()\n",
    "        self.display.setFixedHeight(35)\n",
    "        self.display.setAlignment(Qt.AlignRight)\n",
    "        self.display.setReadOnly(True)\n",
    "        self.generalLayout.addWidget(self.display)\n",
    "        \n",
    "    def _createButtons(self):\n",
    "        self.buttons = {}\n",
    "        buttonsLayout = QGridLayout()\n",
    "        buttons = {\n",
    "                   '7': (0, 0), '8': (0, 1), '9': (0, 2), '/': (0, 3),\n",
    "                   'C': (0, 4), '4': (1, 0), '5': (1, 1), '6': (1, 2),\n",
    "                   '*': (1, 3), '(': (1, 4), '1': (2, 0), '2': (2, 1),\n",
    "                   '3': (2, 2), '-': (2, 3), ')': (2, 4), '0': (3, 0),\n",
    "                   '00': (3, 1),'.': (3, 2), '+': (3, 3), '=': (3, 4),\n",
    "                  }\n",
    "        for btnText, pos in buttons.items():\n",
    "            self.buttons[btnText] = QPushButton(btnText)\n",
    "            self.buttons[btnText].setFixedSize(40, 40)\n",
    "            buttonsLayout.addWidget(self.buttons[btnText], pos[0], pos[1])\n",
    "        self.generalLayout.addLayout(buttonsLayout)\n",
    "        \n",
    "    def setDisplayText(self, text):\n",
    "        \"\"\"Set display's text.\"\"\"\n",
    "        self.display.setText(text)\n",
    "        self.display.setFocus()\n",
    "\n",
    "    def displayText(self):\n",
    "        \"\"\"Get display's text.\"\"\"\n",
    "        return self.display.text()\n",
    "\n",
    "    def clearDisplay(self):\n",
    "        \"\"\"Clear the display.\"\"\"\n",
    "        self.setDisplayText('')"
   ]
  },
  {
   "cell_type": "code",
   "execution_count": 3,
   "metadata": {},
   "outputs": [
    {
     "ename": "SystemExit",
     "evalue": "0",
     "output_type": "error",
     "traceback": [
      "An exception has occurred, use %tb to see the full traceback.\n",
      "\u001b[1;31mSystemExit\u001b[0m\u001b[1;31m:\u001b[0m 0\n"
     ]
    }
   ],
   "source": [
    "def main():\n",
    "    pycalc = QApplication(sys.argv)\n",
    "    view = PyCalcUi()\n",
    "    view.show()\n",
    "    sys.exit(pycalc.exec_())\n",
    "\n",
    "if __name__ == '__main__':\n",
    "    main()"
   ]
  },
  {
   "cell_type": "markdown",
   "metadata": {},
   "source": [
    "## 기본 컨트롤러 생성"
   ]
  },
  {
   "cell_type": "code",
   "execution_count": 4,
   "metadata": {},
   "outputs": [],
   "source": [
    "class PyCalcCtrl:\n",
    "    def __init__(self, view):\n",
    "        self._view = view\n",
    "        self._connectSignals()\n",
    "\n",
    "    def _buildExpression(self, sub_exp):\n",
    "        expression = self._view.displayText() + sub_exp\n",
    "        self._view.setDisplayText(expression)\n",
    "\n",
    "    def _connectSignals(self):\n",
    "        for btnText, btn in self._view.buttons.items():\n",
    "            if btnText not in {'=', 'C'}:\n",
    "                btn.clicked.connect(partial(self._buildExpression, btnText))\n",
    "\n",
    "        self._view.buttons['C'].clicked.connect(self._view.clearDisplay)"
   ]
  },
  {
   "cell_type": "code",
   "execution_count": 5,
   "metadata": {},
   "outputs": [
    {
     "ename": "SystemExit",
     "evalue": "0",
     "output_type": "error",
     "traceback": [
      "An exception has occurred, use %tb to see the full traceback.\n",
      "\u001b[1;31mSystemExit\u001b[0m\u001b[1;31m:\u001b[0m 0\n"
     ]
    }
   ],
   "source": [
    "def main():\n",
    "    pycalc = QApplication(sys.argv)\n",
    "    view = PyCalcUi()\n",
    "    view.show()\n",
    "    PyCalcCtrl(view=view)\n",
    "    sys.exit(pycalc.exec_())\n",
    "    \n",
    "if __name__ == '__main__':\n",
    "    main()"
   ]
  },
  {
   "cell_type": "markdown",
   "metadata": {},
   "source": [
    "## 모델 구현"
   ]
  },
  {
   "cell_type": "code",
   "execution_count": 6,
   "metadata": {},
   "outputs": [],
   "source": [
    "ERROR_MSG = 'ERROR'\n",
    "def evaluateExpression(expression):\n",
    "    try:\n",
    "        result = str(eval(expression, {}, {}))\n",
    "    except Exception:\n",
    "        result = ERROR_MSG\n",
    "\n",
    "    return result"
   ]
  },
  {
   "cell_type": "markdown",
   "metadata": {},
   "source": [
    "## 컨트롤러 완성"
   ]
  },
  {
   "cell_type": "code",
   "execution_count": 7,
   "metadata": {},
   "outputs": [],
   "source": [
    "class PyCalcCtrl:\n",
    "    def __init__(self, model, view):\n",
    "        self._evaluate = model\n",
    "        self._view = view\n",
    "        self._connectSignals()\n",
    "\n",
    "    def _calculateResult(self):\n",
    "        result = self._evaluate(expression=self._view.displayText())\n",
    "        self._view.setDisplayText(result)\n",
    "\n",
    "    def _buildExpression(self, sub_exp):\n",
    "        if self._view.displayText() == ERROR_MSG:\n",
    "            self._view.clearDisplay()\n",
    "\n",
    "        expression = self._view.displayText() + sub_exp\n",
    "        self._view.setDisplayText(expression)\n",
    "\n",
    "    def _connectSignals(self):\n",
    "        for btnText, btn in self._view.buttons.items():\n",
    "            if btnText not in {'=', 'C'}:\n",
    "                btn.clicked.connect(partial(self._buildExpression, btnText))\n",
    "\n",
    "        self._view.buttons['='].clicked.connect(self._calculateResult)\n",
    "        self._view.display.returnPressed.connect(self._calculateResult)\n",
    "        self._view.buttons['C'].clicked.connect(self._view.clearDisplay)"
   ]
  },
  {
   "cell_type": "markdown",
   "metadata": {},
   "source": [
    "## 계산기 테스트"
   ]
  },
  {
   "cell_type": "code",
   "execution_count": 8,
   "metadata": {},
   "outputs": [
    {
     "ename": "SystemExit",
     "evalue": "0",
     "output_type": "error",
     "traceback": [
      "An exception has occurred, use %tb to see the full traceback.\n",
      "\u001b[1;31mSystemExit\u001b[0m\u001b[1;31m:\u001b[0m 0\n"
     ]
    }
   ],
   "source": [
    "def main():\n",
    "    pycalc = QApplication(sys.argv)\n",
    "    view = PyCalcUi()\n",
    "    view.show()\n",
    "    model = evaluateExpression\n",
    "    PyCalcCtrl(model=model, view=view)\n",
    "    sys.exit(pycalc.exec_())\n",
    "    \n",
    "if __name__ == '__main__':\n",
    "    main()"
   ]
  },
  {
   "cell_type": "code",
   "execution_count": null,
   "metadata": {},
   "outputs": [],
   "source": []
  }
 ],
 "metadata": {
  "kernelspec": {
   "display_name": "Python 3",
   "language": "python",
   "name": "python3"
  },
  "language_info": {
   "codemirror_mode": {
    "name": "ipython",
    "version": 3
   },
   "file_extension": ".py",
   "mimetype": "text/x-python",
   "name": "python",
   "nbconvert_exporter": "python",
   "pygments_lexer": "ipython3",
   "version": "3.7.6"
  }
 },
 "nbformat": 4,
 "nbformat_minor": 4
}
