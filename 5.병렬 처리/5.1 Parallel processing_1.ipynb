{
 "cells": [
  {
   "cell_type": "markdown",
   "metadata": {},
   "source": [
    "## 스레드 시작과 정지"
   ]
  },
  {
   "cell_type": "code",
   "execution_count": 1,
   "metadata": {},
   "outputs": [
    {
     "name": "stdout",
     "output_type": "stream",
     "text": [
      "T-minus 10\n",
      "T-minus 9\n",
      "T-minus 8\n",
      "T-minus 7\n",
      "About to terminate\n",
      "Terminated\n"
     ]
    }
   ],
   "source": [
    "from threading import Thread\n",
    "import time\n",
    "\n",
    "class CountdownTask:\n",
    "    def __init__(self):\n",
    "        self._running = True\n",
    "\n",
    "    def terminate(self):\n",
    "        self._running = False\n",
    "\n",
    "    def run(self, n):\n",
    "        while self._running and n > 0:\n",
    "            print(\"T-minus\", n)\n",
    "            n -= 1\n",
    "            time.sleep(5)\n",
    "\n",
    "c = CountdownTask()\n",
    "t = Thread(target=c.run, args=(10,))\n",
    "t.start()\n",
    "\n",
    "time.sleep(20)\n",
    "print('About to terminate')\n",
    "c.terminate()\n",
    "t.join()\n",
    "print('Terminated')"
   ]
  },
  {
   "cell_type": "markdown",
   "metadata": {},
   "source": [
    "## 스레드가 시작했는지 판단하기"
   ]
  },
  {
   "cell_type": "code",
   "execution_count": 2,
   "metadata": {},
   "outputs": [
    {
     "name": "stdout",
     "output_type": "stream",
     "text": [
      "Launching countdown\n",
      "countdown starting\n",
      "T-minuscountdown is running 10\n",
      "\n",
      "T-minus 9\n",
      "T-minus 8\n",
      "T-minus 7\n",
      "T-minus 6\n",
      "T-minus 5\n",
      "T-minus 4\n",
      "T-minus 3\n",
      "T-minus 2\n",
      "T-minus 1\n"
     ]
    }
   ],
   "source": [
    "from threading import Thread, Event\n",
    "import time\n",
    "\n",
    "def countdown(n, started_evt):\n",
    "    print(\"countdown starting\")\n",
    "    started_evt.set() \n",
    "    while n > 0:\n",
    "        print(\"T-minus\", n)\n",
    "        n -= 1\n",
    "        time.sleep(5)\n",
    "\n",
    "started_evt = Event()\n",
    "\n",
    "print(\"Launching countdown\")\n",
    "t = Thread(target=countdown, args=(10,started_evt))\n",
    "t.start()\n",
    "\n",
    "started_evt.wait()\n",
    "print(\"countdown is running\")"
   ]
  },
  {
   "cell_type": "code",
   "execution_count": 1,
   "metadata": {},
   "outputs": [
    {
     "name": "stdout",
     "output_type": "stream",
     "text": [
      "T-minus 10\n",
      "Counting 0\n",
      "T-minusCounting 9\n",
      " 1\n",
      "T-minusCounting  8\n",
      "2\n",
      "CountingT-minus 3\n",
      " 7\n",
      "T-minusCounting 6\n",
      " 4\n",
      "T-minus 5\n",
      "T-minus 4\n",
      "T-minus 3\n",
      "T-minus 2\n",
      "T-minus 1\n"
     ]
    }
   ],
   "source": [
    "import threading\n",
    "import time\n",
    "\n",
    "class PeriodicTimer:\n",
    "    def __init__(self, interval):\n",
    "        self._interval = interval\n",
    "        self._flag = 0\n",
    "        self._cv = threading.Condition()\n",
    "\n",
    "    def start(self):\n",
    "        t = threading.Thread(target=self.run)\n",
    "        t.daemon = True\n",
    "        t.start()\n",
    "\n",
    "    def run(self):\n",
    "        while True:\n",
    "            time.sleep(self._interval)\n",
    "            with self._cv:\n",
    "                 self._flag ^= 1\n",
    "                 self._cv.notify_all()\n",
    "\n",
    "    def wait_for_tick(self):\n",
    "        with self._cv:\n",
    "            last_flag = self._flag\n",
    "            while last_flag == self._flag:\n",
    "                self._cv.wait()\n",
    "\n",
    "ptimer = PeriodicTimer(5)\n",
    "ptimer.start()\n",
    "\n",
    "def countdown(nticks):\n",
    "    while nticks > 0:\n",
    "        ptimer.wait_for_tick()\n",
    "        print(\"T-minus\", nticks)\n",
    "        nticks -= 1\n",
    "\n",
    "def countup(last):\n",
    "    n = 0\n",
    "    while n < last:\n",
    "        ptimer.wait_for_tick()\n",
    "        print(\"Counting\", n)\n",
    "        n += 1\n",
    "\n",
    "threading.Thread(target=countdown, args=(10,)).start()\n",
    "threading.Thread(target=countup, args=(5,)).start()"
   ]
  },
  {
   "cell_type": "code",
   "execution_count": 2,
   "metadata": {},
   "outputs": [
    {
     "name": "stdout",
     "output_type": "stream",
     "text": [
      "About to release first worker\n",
      "Working 0\n",
      "About to release second worker\n",
      "Working 1\n",
      "Goodbye\n"
     ]
    }
   ],
   "source": [
    "import threading\n",
    "import time\n",
    "\n",
    "def worker(n, sema):\n",
    "    sema.acquire()\n",
    "    print(\"Working\", n)\n",
    "\n",
    "sema = threading.Semaphore(0)\n",
    "nworkers = 10\n",
    "for n in range(nworkers):\n",
    "    t = threading.Thread(target=worker, args=(n, sema,))\n",
    "    t.daemon=True\n",
    "    t.start()\n",
    "\n",
    "print('About to release first worker')\n",
    "time.sleep(5)\n",
    "sema.release()\n",
    "time.sleep(1)\n",
    "print('About to release second worker')\n",
    "time.sleep(5)\n",
    "sema.release()\n",
    "time.sleep(1)\n",
    "print('Goodbye')"
   ]
  },
  {
   "cell_type": "markdown",
   "metadata": {},
   "source": [
    "## 스레드간 통신"
   ]
  },
  {
   "cell_type": "code",
   "execution_count": 5,
   "metadata": {},
   "outputs": [
    {
     "name": "stdout",
     "output_type": "stream",
     "text": [
      "Got: 10\n",
      "Got: 9\n",
      "Got: 8\n",
      "Got: 7\n",
      "Got: 6\n",
      "Got: 5\n",
      "Got: 4\n",
      "Got: 3\n",
      "Got: 2\n",
      "Got: 1\n",
      "Consumer shutting down\n"
     ]
    }
   ],
   "source": [
    "from queue import Queue\n",
    "from threading import Thread\n",
    "import time\n",
    "\n",
    "_sentinel = object()\n",
    "\n",
    "def producer(out_q):\n",
    "    n = 10\n",
    "    while n > 0:\n",
    "        out_q.put(n)\n",
    "        time.sleep(2)\n",
    "        n -= 1\n",
    "    out_q.put(_sentinel)\n",
    "\n",
    "def consumer(in_q):\n",
    "    while True:\n",
    "        data = in_q.get()\n",
    "\n",
    "        if data is _sentinel:\n",
    "            in_q.put(_sentinel)\n",
    "            break\n",
    "\n",
    "        print('Got:', data)\n",
    "    print('Consumer shutting down')\n",
    "\n",
    "if __name__ == '__main__':\n",
    "    q = Queue()\n",
    "    t1 = Thread(target=consumer, args=(q,))\n",
    "    t2 = Thread(target=producer, args=(q,))\n",
    "    t1.start()\n",
    "    t2.start()\n",
    "    t1.join()\n",
    "    t2.join()"
   ]
  },
  {
   "cell_type": "code",
   "execution_count": 6,
   "metadata": {},
   "outputs": [
    {
     "name": "stdout",
     "output_type": "stream",
     "text": [
      "Producing items\n",
      "Getting items\n",
      "Got: A\n",
      "Got: B\n",
      "Got: C\n",
      "Got: D\n",
      "Consumer done\n"
     ]
    }
   ],
   "source": [
    "import heapq\n",
    "import threading\n",
    "import time\n",
    "\n",
    "class PriorityQueue:\n",
    "    def __init__(self):\n",
    "        self._queue = []\n",
    "        self._count = 0\n",
    "        self._cv = threading.Condition()\n",
    "    def put(self, item, priority):\n",
    "        with self._cv:\n",
    "            heapq.heappush(self._queue, (-priority, self._count, item))\n",
    "            self._count += 1\n",
    "            self._cv.notify()\n",
    "\n",
    "    def get(self):\n",
    "        with self._cv:\n",
    "            while len(self._queue) == 0:\n",
    "                self._cv.wait()\n",
    "            return heapq.heappop(self._queue)[-1]\n",
    "\n",
    "def producer(q):\n",
    "    print('Producing items')\n",
    "    q.put('C', 5)\n",
    "    q.put('A', 15)\n",
    "    q.put('B', 10)\n",
    "    q.put('D', 0)\n",
    "    q.put(None, -100)\n",
    "\n",
    "def consumer(q):\n",
    "    time.sleep(5)\n",
    "    print('Getting items')\n",
    "    while True:\n",
    "        item = q.get()\n",
    "        if item is None:\n",
    "            break\n",
    "        print('Got:', item)\n",
    "    print('Consumer done')\n",
    "\n",
    "if __name__ == '__main__':\n",
    "    q = PriorityQueue()\n",
    "    t1 = threading.Thread(target=producer, args=(q,))\n",
    "    t2 = threading.Thread(target=consumer, args=(q,))\n",
    "    t1.start()\n",
    "    t2.start()\n",
    "    t1.join()\n",
    "    t2.join()"
   ]
  },
  {
   "cell_type": "code",
   "execution_count": null,
   "metadata": {},
   "outputs": [],
   "source": []
  }
 ],
 "metadata": {
  "kernelspec": {
   "display_name": "Python 3",
   "language": "python",
   "name": "python3"
  },
  "language_info": {
   "codemirror_mode": {
    "name": "ipython",
    "version": 3
   },
   "file_extension": ".py",
   "mimetype": "text/x-python",
   "name": "python",
   "nbconvert_exporter": "python",
   "pygments_lexer": "ipython3",
   "version": "3.7.6"
  }
 },
 "nbformat": 4,
 "nbformat_minor": 4
}
